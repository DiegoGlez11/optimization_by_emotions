{
 "cells": [
  {
   "cell_type": "code",
   "execution_count": 1,
   "metadata": {},
   "outputs": [],
   "source": [
    "\n",
    "import sys, os\n",
    "import numpy as np\n",
    "import matplotlib.pyplot as plt\n",
    "import plotly.express as px\n",
    "import pandas as pd\n",
    "from os.path import expanduser\n",
    "home = expanduser(\"~\")\n",
    "sys.path.insert(1, f\"{home}/catkin_ws/src/emotion_classification/src\")\n",
    "sys.path.insert(2, f\"{home}/catkin_ws/src/neurocontroller_database/src\")\n",
    "from utilities import load_json, root_dir, users_adquisition, color_axes\n",
    "from distributions import plot_distributions, get_distributions\n",
    "from load_bci_results import get_data_experiments\n",
    "\n",
    "range_final = [0,.8]\n",
    "\n",
    "\n",
    "# ruta del nodo neurocntroller_database\n",
    "split_path = root_dir.split(\"/\")[:-1]\n",
    "path_node = \"/\".join(split_path)\n",
    "\n",
    "# ruta de los datos\n",
    "root_db = f\"{path_node}/database\""
   ]
  },
  {
   "attachments": {},
   "cell_type": "markdown",
   "metadata": {},
   "source": [
    "NEUROCONTROLADORES"
   ]
  },
  {
   "cell_type": "code",
   "execution_count": 2,
   "metadata": {},
   "outputs": [
    {
     "name": "stdout",
     "output_type": "stream",
     "text": [
      "-- user1\n",
      "-- user_test\n",
      "Num Columnas 9\n",
      "[('id pareto', 'SIZE: 44'), ('num ind', 'SIZE: 44'), ('num exp', 'SIZE: 44'), ('usuario', 'SIZE: 44'), ('type experiment', 'SIZE: 44'), ('id experiment', 'SIZE: 44'), ('PBI SAM', 'SIZE: 44'), ('valence SAM', 'SIZE: 44'), ('arousal SAM', 'SIZE: 44')]\n"
     ]
    },
    {
     "data": {
      "text/html": [
       "<div>\n",
       "<style scoped>\n",
       "    .dataframe tbody tr th:only-of-type {\n",
       "        vertical-align: middle;\n",
       "    }\n",
       "\n",
       "    .dataframe tbody tr th {\n",
       "        vertical-align: top;\n",
       "    }\n",
       "\n",
       "    .dataframe thead th {\n",
       "        text-align: right;\n",
       "    }\n",
       "</style>\n",
       "<table border=\"1\" class=\"dataframe\">\n",
       "  <thead>\n",
       "    <tr style=\"text-align: right;\">\n",
       "      <th></th>\n",
       "      <th>id pareto</th>\n",
       "      <th>num ind</th>\n",
       "      <th>num exp</th>\n",
       "      <th>usuario</th>\n",
       "      <th>type experiment</th>\n",
       "      <th>id experiment</th>\n",
       "      <th>PBI SAM</th>\n",
       "      <th>valence SAM</th>\n",
       "      <th>arousal SAM</th>\n",
       "    </tr>\n",
       "  </thead>\n",
       "  <tbody>\n",
       "    <tr>\n",
       "      <th>0</th>\n",
       "      <td>optimized-8</td>\n",
       "      <td>35.0</td>\n",
       "      <td>1.0</td>\n",
       "      <td>user1</td>\n",
       "      <td>traditional</td>\n",
       "      <td>0</td>\n",
       "      <td>0.448474</td>\n",
       "      <td>0.0</td>\n",
       "      <td>0.0</td>\n",
       "    </tr>\n",
       "    <tr>\n",
       "      <th>1</th>\n",
       "      <td>optimized-17</td>\n",
       "      <td>11.0</td>\n",
       "      <td>2.0</td>\n",
       "      <td>user1</td>\n",
       "      <td>traditional</td>\n",
       "      <td>0</td>\n",
       "      <td>0.448474</td>\n",
       "      <td>0.0</td>\n",
       "      <td>0.0</td>\n",
       "    </tr>\n",
       "    <tr>\n",
       "      <th>2</th>\n",
       "      <td>optimized-22</td>\n",
       "      <td>6.0</td>\n",
       "      <td>3.0</td>\n",
       "      <td>user1</td>\n",
       "      <td>traditional</td>\n",
       "      <td>0</td>\n",
       "      <td>0.448474</td>\n",
       "      <td>0.0</td>\n",
       "      <td>0.0</td>\n",
       "    </tr>\n",
       "  </tbody>\n",
       "</table>\n",
       "</div>"
      ],
      "text/plain": [
       "      id pareto  num ind  num exp usuario type experiment id experiment  \\\n",
       "0   optimized-8     35.0      1.0   user1     traditional             0   \n",
       "1  optimized-17     11.0      2.0   user1     traditional             0   \n",
       "2  optimized-22      6.0      3.0   user1     traditional             0   \n",
       "\n",
       "    PBI SAM  valence SAM  arousal SAM  \n",
       "0  0.448474          0.0          0.0  \n",
       "1  0.448474          0.0          0.0  \n",
       "2  0.448474          0.0          0.0  "
      ]
     },
     "execution_count": 2,
     "metadata": {},
     "output_type": "execute_result"
    }
   ],
   "source": [
    "\n",
    "data_exp = get_data_experiments(\"individuo\")\n",
    "data_exp[:3]"
   ]
  },
  {
   "cell_type": "code",
   "execution_count": 3,
   "metadata": {},
   "outputs": [
    {
     "data": {
      "application/vnd.plotly.v1+json": {
       "config": {
        "plotlyServerURL": "https://plot.ly"
       },
       "data": [
        {
         "customdata": [
          [
           "optimized-8"
          ],
          [
           "optimized-17"
          ],
          [
           "optimized-22"
          ],
          [
           "optimized-27"
          ],
          [
           "optimized-32"
          ],
          [
           "optimized-8"
          ],
          [
           "optimized-8"
          ],
          [
           "optimized-8"
          ],
          [
           "optimized-13"
          ],
          [
           "optimized-13"
          ],
          [
           "optimized-13"
          ],
          [
           "optimized-24"
          ],
          [
           "optimized-24"
          ],
          [
           "optimized-24"
          ],
          [
           "optimized-29"
          ],
          [
           "optimized-29"
          ],
          [
           "optimized-29"
          ]
         ],
         "hovertemplate": "valence: %{x}<br>arousal: %{y}<br>pareto: %{customdata[0]}",
         "legendgroup": "user1",
         "marker": {
          "color": "#636efa",
          "size": 10,
          "symbol": "circle"
         },
         "mode": "markers",
         "name": "user1",
         "orientation": "v",
         "showlegend": true,
         "type": "scatter",
         "x": [
          0,
          0,
          0,
          0,
          0,
          0.64,
          0.63,
          0.76,
          0.8,
          0.39,
          0.79,
          0.05,
          0.15,
          0.3,
          0.83,
          0.18,
          0.66
         ],
         "xaxis": "x",
         "y": [
          0,
          0,
          0,
          0,
          0,
          0.85,
          0.95,
          0.69,
          0.58,
          0.5,
          0.5,
          0.57,
          0.77,
          0.82,
          0.36,
          0.7,
          0.27
         ],
         "yaxis": "y"
        },
        {
         "customdata": [
          [
           "optimized-8"
          ],
          [
           "optimized-17"
          ],
          [
           "optimized-22"
          ],
          [
           "optimized-27"
          ],
          [
           "optimized-8"
          ],
          [
           "optimized-17"
          ],
          [
           "optimized-22"
          ],
          [
           "optimized-27"
          ],
          [
           "optimized-32"
          ],
          [
           "optimized-37"
          ],
          [
           "optimized-42"
          ],
          [
           "optimized-8"
          ],
          [
           "optimized-8"
          ],
          [
           "optimized-8"
          ],
          [
           "optimized-8"
          ],
          [
           "optimized-16"
          ],
          [
           "optimized-16"
          ],
          [
           "optimized-16"
          ],
          [
           "optimized-16"
          ],
          [
           "optimized-27"
          ],
          [
           "optimized-27"
          ],
          [
           "optimized-27"
          ],
          [
           "optimized-27"
          ],
          [
           "optimized-32"
          ],
          [
           "optimized-32"
          ],
          [
           "optimized-32"
          ],
          [
           "optimized-32"
          ]
         ],
         "hovertemplate": "valence: %{x}<br>arousal: %{y}<br>pareto: %{customdata[0]}",
         "legendgroup": "user_test",
         "marker": {
          "color": "#EF553B",
          "size": 10,
          "symbol": "circle"
         },
         "mode": "markers",
         "name": "user_test",
         "orientation": "v",
         "showlegend": true,
         "type": "scatter",
         "x": [
          0,
          0,
          0,
          0,
          0,
          0,
          0,
          0,
          0,
          0,
          0,
          0.66,
          0.5,
          0.87,
          0.86,
          0.79,
          0.78,
          0.76,
          0.89,
          0.5,
          0.64,
          0.5,
          0.5,
          0.5,
          0.5,
          0.5,
          0.5
         ],
         "xaxis": "x",
         "y": [
          0,
          0,
          0,
          0,
          0,
          0,
          0,
          0,
          0,
          0,
          0,
          0.67,
          0.5,
          0.64,
          0.69,
          0.61,
          0.63,
          0.71,
          0.65,
          0.5,
          0.65,
          0.5,
          0.5,
          0.5,
          0.5,
          0.5,
          0.5
         ],
         "yaxis": "y"
        }
       ],
       "layout": {
        "legend": {
         "title": {
          "text": "usuario"
         },
         "tracegroupgap": 0
        },
        "margin": {
         "t": 60
        },
        "shapes": [
         {
          "line": {
           "color": "rgba(50, 59, 66, 0.534)"
          },
          "type": "line",
          "x0": 0.5,
          "x1": 0.5,
          "xref": "x",
          "y0": 0,
          "y1": 1,
          "yref": "y"
         },
         {
          "line": {
           "color": "rgba(50, 59, 66, 0.534)"
          },
          "type": "line",
          "x0": 0,
          "x1": 1,
          "xref": "x",
          "y0": 0.5,
          "y1": 0.5,
          "yref": "y"
         },
         {
          "line": {
           "color": "rgba(50, 59, 66, 0.534)"
          },
          "type": "circle",
          "x0": 0,
          "x1": 1,
          "y0": 0,
          "y1": 1
         }
        ],
        "showlegend": true,
        "template": {
         "data": {
          "bar": [
           {
            "error_x": {
             "color": "#2a3f5f"
            },
            "error_y": {
             "color": "#2a3f5f"
            },
            "marker": {
             "line": {
              "color": "#E5ECF6",
              "width": 0.5
             },
             "pattern": {
              "fillmode": "overlay",
              "size": 10,
              "solidity": 0.2
             }
            },
            "type": "bar"
           }
          ],
          "barpolar": [
           {
            "marker": {
             "line": {
              "color": "#E5ECF6",
              "width": 0.5
             },
             "pattern": {
              "fillmode": "overlay",
              "size": 10,
              "solidity": 0.2
             }
            },
            "type": "barpolar"
           }
          ],
          "carpet": [
           {
            "aaxis": {
             "endlinecolor": "#2a3f5f",
             "gridcolor": "white",
             "linecolor": "white",
             "minorgridcolor": "white",
             "startlinecolor": "#2a3f5f"
            },
            "baxis": {
             "endlinecolor": "#2a3f5f",
             "gridcolor": "white",
             "linecolor": "white",
             "minorgridcolor": "white",
             "startlinecolor": "#2a3f5f"
            },
            "type": "carpet"
           }
          ],
          "choropleth": [
           {
            "colorbar": {
             "outlinewidth": 0,
             "ticks": ""
            },
            "type": "choropleth"
           }
          ],
          "contour": [
           {
            "colorbar": {
             "outlinewidth": 0,
             "ticks": ""
            },
            "colorscale": [
             [
              0,
              "#0d0887"
             ],
             [
              0.1111111111111111,
              "#46039f"
             ],
             [
              0.2222222222222222,
              "#7201a8"
             ],
             [
              0.3333333333333333,
              "#9c179e"
             ],
             [
              0.4444444444444444,
              "#bd3786"
             ],
             [
              0.5555555555555556,
              "#d8576b"
             ],
             [
              0.6666666666666666,
              "#ed7953"
             ],
             [
              0.7777777777777778,
              "#fb9f3a"
             ],
             [
              0.8888888888888888,
              "#fdca26"
             ],
             [
              1,
              "#f0f921"
             ]
            ],
            "type": "contour"
           }
          ],
          "contourcarpet": [
           {
            "colorbar": {
             "outlinewidth": 0,
             "ticks": ""
            },
            "type": "contourcarpet"
           }
          ],
          "heatmap": [
           {
            "colorbar": {
             "outlinewidth": 0,
             "ticks": ""
            },
            "colorscale": [
             [
              0,
              "#0d0887"
             ],
             [
              0.1111111111111111,
              "#46039f"
             ],
             [
              0.2222222222222222,
              "#7201a8"
             ],
             [
              0.3333333333333333,
              "#9c179e"
             ],
             [
              0.4444444444444444,
              "#bd3786"
             ],
             [
              0.5555555555555556,
              "#d8576b"
             ],
             [
              0.6666666666666666,
              "#ed7953"
             ],
             [
              0.7777777777777778,
              "#fb9f3a"
             ],
             [
              0.8888888888888888,
              "#fdca26"
             ],
             [
              1,
              "#f0f921"
             ]
            ],
            "type": "heatmap"
           }
          ],
          "heatmapgl": [
           {
            "colorbar": {
             "outlinewidth": 0,
             "ticks": ""
            },
            "colorscale": [
             [
              0,
              "#0d0887"
             ],
             [
              0.1111111111111111,
              "#46039f"
             ],
             [
              0.2222222222222222,
              "#7201a8"
             ],
             [
              0.3333333333333333,
              "#9c179e"
             ],
             [
              0.4444444444444444,
              "#bd3786"
             ],
             [
              0.5555555555555556,
              "#d8576b"
             ],
             [
              0.6666666666666666,
              "#ed7953"
             ],
             [
              0.7777777777777778,
              "#fb9f3a"
             ],
             [
              0.8888888888888888,
              "#fdca26"
             ],
             [
              1,
              "#f0f921"
             ]
            ],
            "type": "heatmapgl"
           }
          ],
          "histogram": [
           {
            "marker": {
             "pattern": {
              "fillmode": "overlay",
              "size": 10,
              "solidity": 0.2
             }
            },
            "type": "histogram"
           }
          ],
          "histogram2d": [
           {
            "colorbar": {
             "outlinewidth": 0,
             "ticks": ""
            },
            "colorscale": [
             [
              0,
              "#0d0887"
             ],
             [
              0.1111111111111111,
              "#46039f"
             ],
             [
              0.2222222222222222,
              "#7201a8"
             ],
             [
              0.3333333333333333,
              "#9c179e"
             ],
             [
              0.4444444444444444,
              "#bd3786"
             ],
             [
              0.5555555555555556,
              "#d8576b"
             ],
             [
              0.6666666666666666,
              "#ed7953"
             ],
             [
              0.7777777777777778,
              "#fb9f3a"
             ],
             [
              0.8888888888888888,
              "#fdca26"
             ],
             [
              1,
              "#f0f921"
             ]
            ],
            "type": "histogram2d"
           }
          ],
          "histogram2dcontour": [
           {
            "colorbar": {
             "outlinewidth": 0,
             "ticks": ""
            },
            "colorscale": [
             [
              0,
              "#0d0887"
             ],
             [
              0.1111111111111111,
              "#46039f"
             ],
             [
              0.2222222222222222,
              "#7201a8"
             ],
             [
              0.3333333333333333,
              "#9c179e"
             ],
             [
              0.4444444444444444,
              "#bd3786"
             ],
             [
              0.5555555555555556,
              "#d8576b"
             ],
             [
              0.6666666666666666,
              "#ed7953"
             ],
             [
              0.7777777777777778,
              "#fb9f3a"
             ],
             [
              0.8888888888888888,
              "#fdca26"
             ],
             [
              1,
              "#f0f921"
             ]
            ],
            "type": "histogram2dcontour"
           }
          ],
          "mesh3d": [
           {
            "colorbar": {
             "outlinewidth": 0,
             "ticks": ""
            },
            "type": "mesh3d"
           }
          ],
          "parcoords": [
           {
            "line": {
             "colorbar": {
              "outlinewidth": 0,
              "ticks": ""
             }
            },
            "type": "parcoords"
           }
          ],
          "pie": [
           {
            "automargin": true,
            "type": "pie"
           }
          ],
          "scatter": [
           {
            "fillpattern": {
             "fillmode": "overlay",
             "size": 10,
             "solidity": 0.2
            },
            "type": "scatter"
           }
          ],
          "scatter3d": [
           {
            "line": {
             "colorbar": {
              "outlinewidth": 0,
              "ticks": ""
             }
            },
            "marker": {
             "colorbar": {
              "outlinewidth": 0,
              "ticks": ""
             }
            },
            "type": "scatter3d"
           }
          ],
          "scattercarpet": [
           {
            "marker": {
             "colorbar": {
              "outlinewidth": 0,
              "ticks": ""
             }
            },
            "type": "scattercarpet"
           }
          ],
          "scattergeo": [
           {
            "marker": {
             "colorbar": {
              "outlinewidth": 0,
              "ticks": ""
             }
            },
            "type": "scattergeo"
           }
          ],
          "scattergl": [
           {
            "marker": {
             "colorbar": {
              "outlinewidth": 0,
              "ticks": ""
             }
            },
            "type": "scattergl"
           }
          ],
          "scattermapbox": [
           {
            "marker": {
             "colorbar": {
              "outlinewidth": 0,
              "ticks": ""
             }
            },
            "type": "scattermapbox"
           }
          ],
          "scatterpolar": [
           {
            "marker": {
             "colorbar": {
              "outlinewidth": 0,
              "ticks": ""
             }
            },
            "type": "scatterpolar"
           }
          ],
          "scatterpolargl": [
           {
            "marker": {
             "colorbar": {
              "outlinewidth": 0,
              "ticks": ""
             }
            },
            "type": "scatterpolargl"
           }
          ],
          "scatterternary": [
           {
            "marker": {
             "colorbar": {
              "outlinewidth": 0,
              "ticks": ""
             }
            },
            "type": "scatterternary"
           }
          ],
          "surface": [
           {
            "colorbar": {
             "outlinewidth": 0,
             "ticks": ""
            },
            "colorscale": [
             [
              0,
              "#0d0887"
             ],
             [
              0.1111111111111111,
              "#46039f"
             ],
             [
              0.2222222222222222,
              "#7201a8"
             ],
             [
              0.3333333333333333,
              "#9c179e"
             ],
             [
              0.4444444444444444,
              "#bd3786"
             ],
             [
              0.5555555555555556,
              "#d8576b"
             ],
             [
              0.6666666666666666,
              "#ed7953"
             ],
             [
              0.7777777777777778,
              "#fb9f3a"
             ],
             [
              0.8888888888888888,
              "#fdca26"
             ],
             [
              1,
              "#f0f921"
             ]
            ],
            "type": "surface"
           }
          ],
          "table": [
           {
            "cells": {
             "fill": {
              "color": "#EBF0F8"
             },
             "line": {
              "color": "white"
             }
            },
            "header": {
             "fill": {
              "color": "#C8D4E3"
             },
             "line": {
              "color": "white"
             }
            },
            "type": "table"
           }
          ]
         },
         "layout": {
          "annotationdefaults": {
           "arrowcolor": "#2a3f5f",
           "arrowhead": 0,
           "arrowwidth": 1
          },
          "autotypenumbers": "strict",
          "coloraxis": {
           "colorbar": {
            "outlinewidth": 0,
            "ticks": ""
           }
          },
          "colorscale": {
           "diverging": [
            [
             0,
             "#8e0152"
            ],
            [
             0.1,
             "#c51b7d"
            ],
            [
             0.2,
             "#de77ae"
            ],
            [
             0.3,
             "#f1b6da"
            ],
            [
             0.4,
             "#fde0ef"
            ],
            [
             0.5,
             "#f7f7f7"
            ],
            [
             0.6,
             "#e6f5d0"
            ],
            [
             0.7,
             "#b8e186"
            ],
            [
             0.8,
             "#7fbc41"
            ],
            [
             0.9,
             "#4d9221"
            ],
            [
             1,
             "#276419"
            ]
           ],
           "sequential": [
            [
             0,
             "#0d0887"
            ],
            [
             0.1111111111111111,
             "#46039f"
            ],
            [
             0.2222222222222222,
             "#7201a8"
            ],
            [
             0.3333333333333333,
             "#9c179e"
            ],
            [
             0.4444444444444444,
             "#bd3786"
            ],
            [
             0.5555555555555556,
             "#d8576b"
            ],
            [
             0.6666666666666666,
             "#ed7953"
            ],
            [
             0.7777777777777778,
             "#fb9f3a"
            ],
            [
             0.8888888888888888,
             "#fdca26"
            ],
            [
             1,
             "#f0f921"
            ]
           ],
           "sequentialminus": [
            [
             0,
             "#0d0887"
            ],
            [
             0.1111111111111111,
             "#46039f"
            ],
            [
             0.2222222222222222,
             "#7201a8"
            ],
            [
             0.3333333333333333,
             "#9c179e"
            ],
            [
             0.4444444444444444,
             "#bd3786"
            ],
            [
             0.5555555555555556,
             "#d8576b"
            ],
            [
             0.6666666666666666,
             "#ed7953"
            ],
            [
             0.7777777777777778,
             "#fb9f3a"
            ],
            [
             0.8888888888888888,
             "#fdca26"
            ],
            [
             1,
             "#f0f921"
            ]
           ]
          },
          "colorway": [
           "#636efa",
           "#EF553B",
           "#00cc96",
           "#ab63fa",
           "#FFA15A",
           "#19d3f3",
           "#FF6692",
           "#B6E880",
           "#FF97FF",
           "#FECB52"
          ],
          "font": {
           "color": "#2a3f5f"
          },
          "geo": {
           "bgcolor": "white",
           "lakecolor": "white",
           "landcolor": "#E5ECF6",
           "showlakes": true,
           "showland": true,
           "subunitcolor": "white"
          },
          "hoverlabel": {
           "align": "left"
          },
          "hovermode": "closest",
          "mapbox": {
           "style": "light"
          },
          "paper_bgcolor": "white",
          "plot_bgcolor": "#E5ECF6",
          "polar": {
           "angularaxis": {
            "gridcolor": "white",
            "linecolor": "white",
            "ticks": ""
           },
           "bgcolor": "#E5ECF6",
           "radialaxis": {
            "gridcolor": "white",
            "linecolor": "white",
            "ticks": ""
           }
          },
          "scene": {
           "xaxis": {
            "backgroundcolor": "#E5ECF6",
            "gridcolor": "white",
            "gridwidth": 2,
            "linecolor": "white",
            "showbackground": true,
            "ticks": "",
            "zerolinecolor": "white"
           },
           "yaxis": {
            "backgroundcolor": "#E5ECF6",
            "gridcolor": "white",
            "gridwidth": 2,
            "linecolor": "white",
            "showbackground": true,
            "ticks": "",
            "zerolinecolor": "white"
           },
           "zaxis": {
            "backgroundcolor": "#E5ECF6",
            "gridcolor": "white",
            "gridwidth": 2,
            "linecolor": "white",
            "showbackground": true,
            "ticks": "",
            "zerolinecolor": "white"
           }
          },
          "shapedefaults": {
           "line": {
            "color": "#2a3f5f"
           }
          },
          "ternary": {
           "aaxis": {
            "gridcolor": "white",
            "linecolor": "white",
            "ticks": ""
           },
           "baxis": {
            "gridcolor": "white",
            "linecolor": "white",
            "ticks": ""
           },
           "bgcolor": "#E5ECF6",
           "caxis": {
            "gridcolor": "white",
            "linecolor": "white",
            "ticks": ""
           }
          },
          "title": {
           "x": 0.05
          },
          "xaxis": {
           "automargin": true,
           "gridcolor": "white",
           "linecolor": "white",
           "ticks": "",
           "title": {
            "standoff": 15
           },
           "zerolinecolor": "white",
           "zerolinewidth": 2
          },
          "yaxis": {
           "automargin": true,
           "gridcolor": "white",
           "linecolor": "white",
           "ticks": "",
           "title": {
            "standoff": 15
           },
           "zerolinecolor": "white",
           "zerolinewidth": 2
          }
         }
        },
        "xaxis": {
         "anchor": "y",
         "domain": [
          0,
          1
         ],
         "title": {
          "text": "valence SAM"
         }
        },
        "yaxis": {
         "anchor": "x",
         "domain": [
          0,
          1
         ],
         "scaleanchor": "x",
         "scaleratio": 1,
         "title": {
          "text": "arousal SAM"
         }
        }
       }
      }
     },
     "metadata": {},
     "output_type": "display_data"
    },
    {
     "data": {
      "application/vnd.plotly.v1+json": {
       "config": {
        "plotlyServerURL": "https://plot.ly"
       },
       "data": [
        {
         "customdata": [
          [
           "user1"
          ],
          [
           "user1"
          ],
          [
           "user1"
          ],
          [
           "user1"
          ],
          [
           "user_test"
          ],
          [
           "user_test"
          ],
          [
           "user_test"
          ],
          [
           "user_test"
          ],
          [
           "user_test"
          ],
          [
           "user_test"
          ]
         ],
         "hovertemplate": "valence: %{x}<br>arousal: %{y}<br>usuario: %{customdata[0]}",
         "legendgroup": "optimized-8",
         "marker": {
          "color": "#636efa",
          "size": 10,
          "symbol": "circle"
         },
         "mode": "markers",
         "name": "optimized-8",
         "orientation": "v",
         "showlegend": true,
         "type": "scatter",
         "x": [
          0,
          0.64,
          0.63,
          0.76,
          0,
          0,
          0.66,
          0.5,
          0.87,
          0.86
         ],
         "xaxis": "x",
         "y": [
          0,
          0.85,
          0.95,
          0.69,
          0,
          0,
          0.67,
          0.5,
          0.64,
          0.69
         ],
         "yaxis": "y"
        },
        {
         "customdata": [
          [
           "user1"
          ],
          [
           "user_test"
          ],
          [
           "user_test"
          ]
         ],
         "hovertemplate": "valence: %{x}<br>arousal: %{y}<br>usuario: %{customdata[0]}",
         "legendgroup": "optimized-17",
         "marker": {
          "color": "#EF553B",
          "size": 10,
          "symbol": "circle"
         },
         "mode": "markers",
         "name": "optimized-17",
         "orientation": "v",
         "showlegend": true,
         "type": "scatter",
         "x": [
          0,
          0,
          0
         ],
         "xaxis": "x",
         "y": [
          0,
          0,
          0
         ],
         "yaxis": "y"
        },
        {
         "customdata": [
          [
           "user1"
          ],
          [
           "user_test"
          ],
          [
           "user_test"
          ]
         ],
         "hovertemplate": "valence: %{x}<br>arousal: %{y}<br>usuario: %{customdata[0]}",
         "legendgroup": "optimized-22",
         "marker": {
          "color": "#00cc96",
          "size": 10,
          "symbol": "circle"
         },
         "mode": "markers",
         "name": "optimized-22",
         "orientation": "v",
         "showlegend": true,
         "type": "scatter",
         "x": [
          0,
          0,
          0
         ],
         "xaxis": "x",
         "y": [
          0,
          0,
          0
         ],
         "yaxis": "y"
        },
        {
         "customdata": [
          [
           "user1"
          ],
          [
           "user_test"
          ],
          [
           "user_test"
          ],
          [
           "user_test"
          ],
          [
           "user_test"
          ],
          [
           "user_test"
          ],
          [
           "user_test"
          ]
         ],
         "hovertemplate": "valence: %{x}<br>arousal: %{y}<br>usuario: %{customdata[0]}",
         "legendgroup": "optimized-27",
         "marker": {
          "color": "#ab63fa",
          "size": 10,
          "symbol": "circle"
         },
         "mode": "markers",
         "name": "optimized-27",
         "orientation": "v",
         "showlegend": true,
         "type": "scatter",
         "x": [
          0,
          0,
          0,
          0.5,
          0.64,
          0.5,
          0.5
         ],
         "xaxis": "x",
         "y": [
          0,
          0,
          0,
          0.5,
          0.65,
          0.5,
          0.5
         ],
         "yaxis": "y"
        },
        {
         "customdata": [
          [
           "user1"
          ],
          [
           "user_test"
          ],
          [
           "user_test"
          ],
          [
           "user_test"
          ],
          [
           "user_test"
          ],
          [
           "user_test"
          ]
         ],
         "hovertemplate": "valence: %{x}<br>arousal: %{y}<br>usuario: %{customdata[0]}",
         "legendgroup": "optimized-32",
         "marker": {
          "color": "#FFA15A",
          "size": 10,
          "symbol": "circle"
         },
         "mode": "markers",
         "name": "optimized-32",
         "orientation": "v",
         "showlegend": true,
         "type": "scatter",
         "x": [
          0,
          0,
          0.5,
          0.5,
          0.5,
          0.5
         ],
         "xaxis": "x",
         "y": [
          0,
          0,
          0.5,
          0.5,
          0.5,
          0.5
         ],
         "yaxis": "y"
        },
        {
         "customdata": [
          [
           "user1"
          ],
          [
           "user1"
          ],
          [
           "user1"
          ]
         ],
         "hovertemplate": "valence: %{x}<br>arousal: %{y}<br>usuario: %{customdata[0]}",
         "legendgroup": "optimized-13",
         "marker": {
          "color": "#19d3f3",
          "size": 10,
          "symbol": "circle"
         },
         "mode": "markers",
         "name": "optimized-13",
         "orientation": "v",
         "showlegend": true,
         "type": "scatter",
         "x": [
          0.8,
          0.39,
          0.79
         ],
         "xaxis": "x",
         "y": [
          0.58,
          0.5,
          0.5
         ],
         "yaxis": "y"
        },
        {
         "customdata": [
          [
           "user1"
          ],
          [
           "user1"
          ],
          [
           "user1"
          ]
         ],
         "hovertemplate": "valence: %{x}<br>arousal: %{y}<br>usuario: %{customdata[0]}",
         "legendgroup": "optimized-24",
         "marker": {
          "color": "#FF6692",
          "size": 10,
          "symbol": "circle"
         },
         "mode": "markers",
         "name": "optimized-24",
         "orientation": "v",
         "showlegend": true,
         "type": "scatter",
         "x": [
          0.05,
          0.15,
          0.3
         ],
         "xaxis": "x",
         "y": [
          0.57,
          0.77,
          0.82
         ],
         "yaxis": "y"
        },
        {
         "customdata": [
          [
           "user1"
          ],
          [
           "user1"
          ],
          [
           "user1"
          ]
         ],
         "hovertemplate": "valence: %{x}<br>arousal: %{y}<br>usuario: %{customdata[0]}",
         "legendgroup": "optimized-29",
         "marker": {
          "color": "#B6E880",
          "size": 10,
          "symbol": "circle"
         },
         "mode": "markers",
         "name": "optimized-29",
         "orientation": "v",
         "showlegend": true,
         "type": "scatter",
         "x": [
          0.83,
          0.18,
          0.66
         ],
         "xaxis": "x",
         "y": [
          0.36,
          0.7,
          0.27
         ],
         "yaxis": "y"
        },
        {
         "customdata": [
          [
           "user_test"
          ]
         ],
         "hovertemplate": "valence: %{x}<br>arousal: %{y}<br>usuario: %{customdata[0]}",
         "legendgroup": "optimized-37",
         "marker": {
          "color": "#FF97FF",
          "size": 10,
          "symbol": "circle"
         },
         "mode": "markers",
         "name": "optimized-37",
         "orientation": "v",
         "showlegend": true,
         "type": "scatter",
         "x": [
          0
         ],
         "xaxis": "x",
         "y": [
          0
         ],
         "yaxis": "y"
        },
        {
         "customdata": [
          [
           "user_test"
          ]
         ],
         "hovertemplate": "valence: %{x}<br>arousal: %{y}<br>usuario: %{customdata[0]}",
         "legendgroup": "optimized-42",
         "marker": {
          "color": "#FECB52",
          "size": 10,
          "symbol": "circle"
         },
         "mode": "markers",
         "name": "optimized-42",
         "orientation": "v",
         "showlegend": true,
         "type": "scatter",
         "x": [
          0
         ],
         "xaxis": "x",
         "y": [
          0
         ],
         "yaxis": "y"
        },
        {
         "customdata": [
          [
           "user_test"
          ],
          [
           "user_test"
          ],
          [
           "user_test"
          ],
          [
           "user_test"
          ]
         ],
         "hovertemplate": "valence: %{x}<br>arousal: %{y}<br>usuario: %{customdata[0]}",
         "legendgroup": "optimized-16",
         "marker": {
          "color": "#636efa",
          "size": 10,
          "symbol": "circle"
         },
         "mode": "markers",
         "name": "optimized-16",
         "orientation": "v",
         "showlegend": true,
         "type": "scatter",
         "x": [
          0.79,
          0.78,
          0.76,
          0.89
         ],
         "xaxis": "x",
         "y": [
          0.61,
          0.63,
          0.71,
          0.65
         ],
         "yaxis": "y"
        }
       ],
       "layout": {
        "legend": {
         "title": {
          "text": "id pareto"
         },
         "tracegroupgap": 0
        },
        "margin": {
         "t": 60
        },
        "shapes": [
         {
          "line": {
           "color": "rgba(50, 59, 66, 0.534)"
          },
          "type": "line",
          "x0": 0.5,
          "x1": 0.5,
          "xref": "x",
          "y0": 0,
          "y1": 1,
          "yref": "y"
         },
         {
          "line": {
           "color": "rgba(50, 59, 66, 0.534)"
          },
          "type": "line",
          "x0": 0,
          "x1": 1,
          "xref": "x",
          "y0": 0.5,
          "y1": 0.5,
          "yref": "y"
         },
         {
          "line": {
           "color": "rgba(50, 59, 66, 0.534)"
          },
          "type": "circle",
          "x0": 0,
          "x1": 1,
          "y0": 0,
          "y1": 1
         }
        ],
        "showlegend": true,
        "template": {
         "data": {
          "bar": [
           {
            "error_x": {
             "color": "#2a3f5f"
            },
            "error_y": {
             "color": "#2a3f5f"
            },
            "marker": {
             "line": {
              "color": "#E5ECF6",
              "width": 0.5
             },
             "pattern": {
              "fillmode": "overlay",
              "size": 10,
              "solidity": 0.2
             }
            },
            "type": "bar"
           }
          ],
          "barpolar": [
           {
            "marker": {
             "line": {
              "color": "#E5ECF6",
              "width": 0.5
             },
             "pattern": {
              "fillmode": "overlay",
              "size": 10,
              "solidity": 0.2
             }
            },
            "type": "barpolar"
           }
          ],
          "carpet": [
           {
            "aaxis": {
             "endlinecolor": "#2a3f5f",
             "gridcolor": "white",
             "linecolor": "white",
             "minorgridcolor": "white",
             "startlinecolor": "#2a3f5f"
            },
            "baxis": {
             "endlinecolor": "#2a3f5f",
             "gridcolor": "white",
             "linecolor": "white",
             "minorgridcolor": "white",
             "startlinecolor": "#2a3f5f"
            },
            "type": "carpet"
           }
          ],
          "choropleth": [
           {
            "colorbar": {
             "outlinewidth": 0,
             "ticks": ""
            },
            "type": "choropleth"
           }
          ],
          "contour": [
           {
            "colorbar": {
             "outlinewidth": 0,
             "ticks": ""
            },
            "colorscale": [
             [
              0,
              "#0d0887"
             ],
             [
              0.1111111111111111,
              "#46039f"
             ],
             [
              0.2222222222222222,
              "#7201a8"
             ],
             [
              0.3333333333333333,
              "#9c179e"
             ],
             [
              0.4444444444444444,
              "#bd3786"
             ],
             [
              0.5555555555555556,
              "#d8576b"
             ],
             [
              0.6666666666666666,
              "#ed7953"
             ],
             [
              0.7777777777777778,
              "#fb9f3a"
             ],
             [
              0.8888888888888888,
              "#fdca26"
             ],
             [
              1,
              "#f0f921"
             ]
            ],
            "type": "contour"
           }
          ],
          "contourcarpet": [
           {
            "colorbar": {
             "outlinewidth": 0,
             "ticks": ""
            },
            "type": "contourcarpet"
           }
          ],
          "heatmap": [
           {
            "colorbar": {
             "outlinewidth": 0,
             "ticks": ""
            },
            "colorscale": [
             [
              0,
              "#0d0887"
             ],
             [
              0.1111111111111111,
              "#46039f"
             ],
             [
              0.2222222222222222,
              "#7201a8"
             ],
             [
              0.3333333333333333,
              "#9c179e"
             ],
             [
              0.4444444444444444,
              "#bd3786"
             ],
             [
              0.5555555555555556,
              "#d8576b"
             ],
             [
              0.6666666666666666,
              "#ed7953"
             ],
             [
              0.7777777777777778,
              "#fb9f3a"
             ],
             [
              0.8888888888888888,
              "#fdca26"
             ],
             [
              1,
              "#f0f921"
             ]
            ],
            "type": "heatmap"
           }
          ],
          "heatmapgl": [
           {
            "colorbar": {
             "outlinewidth": 0,
             "ticks": ""
            },
            "colorscale": [
             [
              0,
              "#0d0887"
             ],
             [
              0.1111111111111111,
              "#46039f"
             ],
             [
              0.2222222222222222,
              "#7201a8"
             ],
             [
              0.3333333333333333,
              "#9c179e"
             ],
             [
              0.4444444444444444,
              "#bd3786"
             ],
             [
              0.5555555555555556,
              "#d8576b"
             ],
             [
              0.6666666666666666,
              "#ed7953"
             ],
             [
              0.7777777777777778,
              "#fb9f3a"
             ],
             [
              0.8888888888888888,
              "#fdca26"
             ],
             [
              1,
              "#f0f921"
             ]
            ],
            "type": "heatmapgl"
           }
          ],
          "histogram": [
           {
            "marker": {
             "pattern": {
              "fillmode": "overlay",
              "size": 10,
              "solidity": 0.2
             }
            },
            "type": "histogram"
           }
          ],
          "histogram2d": [
           {
            "colorbar": {
             "outlinewidth": 0,
             "ticks": ""
            },
            "colorscale": [
             [
              0,
              "#0d0887"
             ],
             [
              0.1111111111111111,
              "#46039f"
             ],
             [
              0.2222222222222222,
              "#7201a8"
             ],
             [
              0.3333333333333333,
              "#9c179e"
             ],
             [
              0.4444444444444444,
              "#bd3786"
             ],
             [
              0.5555555555555556,
              "#d8576b"
             ],
             [
              0.6666666666666666,
              "#ed7953"
             ],
             [
              0.7777777777777778,
              "#fb9f3a"
             ],
             [
              0.8888888888888888,
              "#fdca26"
             ],
             [
              1,
              "#f0f921"
             ]
            ],
            "type": "histogram2d"
           }
          ],
          "histogram2dcontour": [
           {
            "colorbar": {
             "outlinewidth": 0,
             "ticks": ""
            },
            "colorscale": [
             [
              0,
              "#0d0887"
             ],
             [
              0.1111111111111111,
              "#46039f"
             ],
             [
              0.2222222222222222,
              "#7201a8"
             ],
             [
              0.3333333333333333,
              "#9c179e"
             ],
             [
              0.4444444444444444,
              "#bd3786"
             ],
             [
              0.5555555555555556,
              "#d8576b"
             ],
             [
              0.6666666666666666,
              "#ed7953"
             ],
             [
              0.7777777777777778,
              "#fb9f3a"
             ],
             [
              0.8888888888888888,
              "#fdca26"
             ],
             [
              1,
              "#f0f921"
             ]
            ],
            "type": "histogram2dcontour"
           }
          ],
          "mesh3d": [
           {
            "colorbar": {
             "outlinewidth": 0,
             "ticks": ""
            },
            "type": "mesh3d"
           }
          ],
          "parcoords": [
           {
            "line": {
             "colorbar": {
              "outlinewidth": 0,
              "ticks": ""
             }
            },
            "type": "parcoords"
           }
          ],
          "pie": [
           {
            "automargin": true,
            "type": "pie"
           }
          ],
          "scatter": [
           {
            "fillpattern": {
             "fillmode": "overlay",
             "size": 10,
             "solidity": 0.2
            },
            "type": "scatter"
           }
          ],
          "scatter3d": [
           {
            "line": {
             "colorbar": {
              "outlinewidth": 0,
              "ticks": ""
             }
            },
            "marker": {
             "colorbar": {
              "outlinewidth": 0,
              "ticks": ""
             }
            },
            "type": "scatter3d"
           }
          ],
          "scattercarpet": [
           {
            "marker": {
             "colorbar": {
              "outlinewidth": 0,
              "ticks": ""
             }
            },
            "type": "scattercarpet"
           }
          ],
          "scattergeo": [
           {
            "marker": {
             "colorbar": {
              "outlinewidth": 0,
              "ticks": ""
             }
            },
            "type": "scattergeo"
           }
          ],
          "scattergl": [
           {
            "marker": {
             "colorbar": {
              "outlinewidth": 0,
              "ticks": ""
             }
            },
            "type": "scattergl"
           }
          ],
          "scattermapbox": [
           {
            "marker": {
             "colorbar": {
              "outlinewidth": 0,
              "ticks": ""
             }
            },
            "type": "scattermapbox"
           }
          ],
          "scatterpolar": [
           {
            "marker": {
             "colorbar": {
              "outlinewidth": 0,
              "ticks": ""
             }
            },
            "type": "scatterpolar"
           }
          ],
          "scatterpolargl": [
           {
            "marker": {
             "colorbar": {
              "outlinewidth": 0,
              "ticks": ""
             }
            },
            "type": "scatterpolargl"
           }
          ],
          "scatterternary": [
           {
            "marker": {
             "colorbar": {
              "outlinewidth": 0,
              "ticks": ""
             }
            },
            "type": "scatterternary"
           }
          ],
          "surface": [
           {
            "colorbar": {
             "outlinewidth": 0,
             "ticks": ""
            },
            "colorscale": [
             [
              0,
              "#0d0887"
             ],
             [
              0.1111111111111111,
              "#46039f"
             ],
             [
              0.2222222222222222,
              "#7201a8"
             ],
             [
              0.3333333333333333,
              "#9c179e"
             ],
             [
              0.4444444444444444,
              "#bd3786"
             ],
             [
              0.5555555555555556,
              "#d8576b"
             ],
             [
              0.6666666666666666,
              "#ed7953"
             ],
             [
              0.7777777777777778,
              "#fb9f3a"
             ],
             [
              0.8888888888888888,
              "#fdca26"
             ],
             [
              1,
              "#f0f921"
             ]
            ],
            "type": "surface"
           }
          ],
          "table": [
           {
            "cells": {
             "fill": {
              "color": "#EBF0F8"
             },
             "line": {
              "color": "white"
             }
            },
            "header": {
             "fill": {
              "color": "#C8D4E3"
             },
             "line": {
              "color": "white"
             }
            },
            "type": "table"
           }
          ]
         },
         "layout": {
          "annotationdefaults": {
           "arrowcolor": "#2a3f5f",
           "arrowhead": 0,
           "arrowwidth": 1
          },
          "autotypenumbers": "strict",
          "coloraxis": {
           "colorbar": {
            "outlinewidth": 0,
            "ticks": ""
           }
          },
          "colorscale": {
           "diverging": [
            [
             0,
             "#8e0152"
            ],
            [
             0.1,
             "#c51b7d"
            ],
            [
             0.2,
             "#de77ae"
            ],
            [
             0.3,
             "#f1b6da"
            ],
            [
             0.4,
             "#fde0ef"
            ],
            [
             0.5,
             "#f7f7f7"
            ],
            [
             0.6,
             "#e6f5d0"
            ],
            [
             0.7,
             "#b8e186"
            ],
            [
             0.8,
             "#7fbc41"
            ],
            [
             0.9,
             "#4d9221"
            ],
            [
             1,
             "#276419"
            ]
           ],
           "sequential": [
            [
             0,
             "#0d0887"
            ],
            [
             0.1111111111111111,
             "#46039f"
            ],
            [
             0.2222222222222222,
             "#7201a8"
            ],
            [
             0.3333333333333333,
             "#9c179e"
            ],
            [
             0.4444444444444444,
             "#bd3786"
            ],
            [
             0.5555555555555556,
             "#d8576b"
            ],
            [
             0.6666666666666666,
             "#ed7953"
            ],
            [
             0.7777777777777778,
             "#fb9f3a"
            ],
            [
             0.8888888888888888,
             "#fdca26"
            ],
            [
             1,
             "#f0f921"
            ]
           ],
           "sequentialminus": [
            [
             0,
             "#0d0887"
            ],
            [
             0.1111111111111111,
             "#46039f"
            ],
            [
             0.2222222222222222,
             "#7201a8"
            ],
            [
             0.3333333333333333,
             "#9c179e"
            ],
            [
             0.4444444444444444,
             "#bd3786"
            ],
            [
             0.5555555555555556,
             "#d8576b"
            ],
            [
             0.6666666666666666,
             "#ed7953"
            ],
            [
             0.7777777777777778,
             "#fb9f3a"
            ],
            [
             0.8888888888888888,
             "#fdca26"
            ],
            [
             1,
             "#f0f921"
            ]
           ]
          },
          "colorway": [
           "#636efa",
           "#EF553B",
           "#00cc96",
           "#ab63fa",
           "#FFA15A",
           "#19d3f3",
           "#FF6692",
           "#B6E880",
           "#FF97FF",
           "#FECB52"
          ],
          "font": {
           "color": "#2a3f5f"
          },
          "geo": {
           "bgcolor": "white",
           "lakecolor": "white",
           "landcolor": "#E5ECF6",
           "showlakes": true,
           "showland": true,
           "subunitcolor": "white"
          },
          "hoverlabel": {
           "align": "left"
          },
          "hovermode": "closest",
          "mapbox": {
           "style": "light"
          },
          "paper_bgcolor": "white",
          "plot_bgcolor": "#E5ECF6",
          "polar": {
           "angularaxis": {
            "gridcolor": "white",
            "linecolor": "white",
            "ticks": ""
           },
           "bgcolor": "#E5ECF6",
           "radialaxis": {
            "gridcolor": "white",
            "linecolor": "white",
            "ticks": ""
           }
          },
          "scene": {
           "xaxis": {
            "backgroundcolor": "#E5ECF6",
            "gridcolor": "white",
            "gridwidth": 2,
            "linecolor": "white",
            "showbackground": true,
            "ticks": "",
            "zerolinecolor": "white"
           },
           "yaxis": {
            "backgroundcolor": "#E5ECF6",
            "gridcolor": "white",
            "gridwidth": 2,
            "linecolor": "white",
            "showbackground": true,
            "ticks": "",
            "zerolinecolor": "white"
           },
           "zaxis": {
            "backgroundcolor": "#E5ECF6",
            "gridcolor": "white",
            "gridwidth": 2,
            "linecolor": "white",
            "showbackground": true,
            "ticks": "",
            "zerolinecolor": "white"
           }
          },
          "shapedefaults": {
           "line": {
            "color": "#2a3f5f"
           }
          },
          "ternary": {
           "aaxis": {
            "gridcolor": "white",
            "linecolor": "white",
            "ticks": ""
           },
           "baxis": {
            "gridcolor": "white",
            "linecolor": "white",
            "ticks": ""
           },
           "bgcolor": "#E5ECF6",
           "caxis": {
            "gridcolor": "white",
            "linecolor": "white",
            "ticks": ""
           }
          },
          "title": {
           "x": 0.05
          },
          "xaxis": {
           "automargin": true,
           "gridcolor": "white",
           "linecolor": "white",
           "ticks": "",
           "title": {
            "standoff": 15
           },
           "zerolinecolor": "white",
           "zerolinewidth": 2
          },
          "yaxis": {
           "automargin": true,
           "gridcolor": "white",
           "linecolor": "white",
           "ticks": "",
           "title": {
            "standoff": 15
           },
           "zerolinecolor": "white",
           "zerolinewidth": 2
          }
         }
        },
        "xaxis": {
         "anchor": "y",
         "domain": [
          0,
          1
         ],
         "title": {
          "text": "valence SAM"
         }
        },
        "yaxis": {
         "anchor": "x",
         "domain": [
          0,
          1
         ],
         "scaleanchor": "x",
         "scaleratio": 1,
         "title": {
          "text": "arousal SAM"
         }
        }
       }
      }
     },
     "metadata": {},
     "output_type": "display_data"
    }
   ],
   "source": [
    "\n",
    "\n",
    "fig = px.scatter(data_exp, y=\"arousal SAM\", x=\"valence SAM\", color=\"usuario\", custom_data=['id pareto'])\n",
    "fig.update_traces(marker_size=10)\n",
    "fig.update_traces(hovertemplate=\"<br>\".join([\"valence: %{x}\", \"arousal: %{y}\", \"pareto: %{customdata[0]}\"]))\n",
    "fig.add_shape(type=\"line\", x0=0.5, y0=0, x1=0.5,y1=1, xref='x', yref='y', line=dict(color=color_axes,))\n",
    "fig.add_shape(type=\"line\", x0=0, y0=0.5, x1=1,y1=0.5, xref='x', yref='y', line=dict(color=color_axes,))\n",
    "fig.add_shape(type=\"circle\", x0=0, y0=0, x1=1, y1=1, line=dict(color=color_axes),)\n",
    "fig.update_yaxes(scaleanchor=\"x\", scaleratio=1,)\n",
    "fig.update_layout(showlegend=True)\n",
    "fig.show()\n",
    "# fig.write_image(f\"{dir_out}/neurocontrollers_by_users.pdf\")\n",
    "\n",
    "\n",
    "fig = px.scatter(data_exp, y=\"arousal SAM\", x=\"valence SAM\", color=\"id pareto\", custom_data=['usuario'])\n",
    "fig.update_traces(marker_size=10)\n",
    "fig.update_traces(hovertemplate=\"<br>\".join([\"valence: %{x}\", \"arousal: %{y}\", \"usuario: %{customdata[0]}\"]))\n",
    "fig.add_shape(type=\"line\", x0=0.5, y0=0, x1=0.5,y1=1, xref='x', yref='y', line=dict(color=color_axes,))\n",
    "fig.add_shape(type=\"line\", x0=0, y0=0.5, x1=1,y1=0.5, xref='x', yref='y', line=dict(color=color_axes,))\n",
    "fig.add_shape(type=\"circle\", x0=0, y0=0, x1=1, y1=1, line=dict(color=color_axes),)\n",
    "fig.update_yaxes(scaleanchor=\"x\", scaleratio=1,)\n",
    "fig.update_layout(showlegend=True)\n",
    "fig.show()\n",
    "# fig.write_image(f\"{dir_out}/neurocontrollers_by_front.pdf\")\n"
   ]
  },
  {
   "cell_type": "code",
   "execution_count": 8,
   "metadata": {},
   "outputs": [
    {
     "name": "stdout",
     "output_type": "stream",
     "text": [
      "---- Global\n",
      "dist_valence {'values': ['0', '1'], 'distribution': [0.4772727272727273, 0.5227272727272727]}\n",
      "dist_arousal {'values': ['0', '1'], 'distribution': [0.4090909090909091, 0.5909090909090909]}\n",
      "dist_class {'values': ['0', '1', '2', '3'], 'distribution': [0.4772727272727273, 0.11363636363636363, 0.36363636363636365, 0.045454545454545456]}\n"
     ]
    },
    {
     "data": {
      "image/png": "[encoded data removed]",
      "text/plain": [
       "<Figure size 1224x432 with 3 Axes>"
      ]
     },
     "metadata": {
      "needs_background": "light"
     },
     "output_type": "display_data"
    },
    {
     "name": "stdout",
     "output_type": "stream",
     "text": [
      "---- user1\n",
      "dist_valence {'values': ['0', '1'], 'distribution': [0.5882352941176471, 0.4117647058823529]}\n",
      "dist_arousal {'values': ['0', '1'], 'distribution': [0.4117647058823529, 0.5882352941176471]}\n",
      "dist_class {'values': ['0', '1', '2', '3'], 'distribution': [0.29411764705882354, 0.29411764705882354, 0.29411764705882354, 0.11764705882352941]}\n"
     ]
    },
    {
     "data": {
      "image/png": "[encoded data removed]",
      "text/plain": [
       "<Figure size 1224x432 with 3 Axes>"
      ]
     },
     "metadata": {
      "needs_background": "light"
     },
     "output_type": "display_data"
    },
    {
     "name": "stdout",
     "output_type": "stream",
     "text": [
      "---- user_test\n",
      "dist_valence {'values': ['0', '1'], 'distribution': [0.4074074074074074, 0.5925925925925926]}\n",
      "dist_arousal {'values': ['0', '1'], 'distribution': [0.4074074074074074, 0.5925925925925926]}\n",
      "dist_class {'values': ['0', '1', '2', '3'], 'distribution': [0.5925925925925926, 0.0, 0.4074074074074074, 0.0]}\n"
     ]
    },
    {
     "data": {
      "image/png": "[encoded data removed]",
      "text/plain": [
       "<Figure size 1224x432 with 3 Axes>"
      ]
     },
     "metadata": {
      "needs_background": "light"
     },
     "output_type": "display_data"
    }
   ],
   "source": [
    "dir_out = f\"./class_distribution/optimized\"\n",
    "user_unique = np.unique(data_exp[\"usuario\"])\n",
    "label_name = [\"valence SAM\", \"arousal SAM\"]\n",
    "\n",
    "print(\"---- Global\")\n",
    "# distibución global\n",
    "valence, arousal, emo_class = get_distributions(data_exp[label_name].to_numpy())\n",
    "plot_distributions(\"Global\", valence, arousal, emo_class, dir_out, range_final)\n",
    "\n",
    "\n",
    "for user_name in user_unique:\n",
    "    print(\"----\", user_name)\n",
    "    labels = data_exp.loc[data_exp[\"usuario\"] == user_name]\n",
    "    labels = labels[label_name].to_numpy()\n",
    "    # print(labels)\n",
    "    # break\n",
    "    # distribuciones\n",
    "    valence, arousal, emo_class = get_distributions(labels)\n",
    "    plot_distributions(user_name, valence, arousal, emo_class, dir_out, range_final)"
   ]
  },
  {
   "attachments": {},
   "cell_type": "markdown",
   "metadata": {},
   "source": [
    "diferencia entre el promedio con TODAS las muestras y el promedio con subconjuntos de las muestras"
   ]
  },
  {
   "cell_type": "code",
   "execution_count": 5,
   "metadata": {},
   "outputs": [],
   "source": [
    "# def calculate_optimized_dist():\n",
    "#     dir_out = f\"./class_distribution/optimized\"\n",
    "\n",
    "#     gloval_v = np.empty((0,2))\n",
    "#     gloval_a = np.empty((0,2))\n",
    "#     gloval_mc = np.empty((0,4))\n",
    "#     id_fronts = []\n",
    "#     user_reg = []\n",
    "\n",
    "#     labels_global = np.empty((0,2))\n",
    "\n",
    "#     for user in users_adquisition:\n",
    "#         print(user)\n",
    "#         user_name = user[\"name\"]\n",
    "#         dir_opt = f\"{root_dir}/{user_name}/history/emotion_evaluation.txt\"\n",
    "#         emo_data = load_json(dir_opt)\n",
    "        \n",
    "#         if(len(emo_data) == 0): continue\n",
    "\n",
    "#         labels = np.empty((0,2))\n",
    "\n",
    "#         # por id_pareto\n",
    "#         for id_pareto in emo_data.keys():\n",
    "#             # por num_ind\n",
    "#             for id_ind in emo_data[id_pareto].keys():\n",
    "#                 # print(emo_data[id_pareto][id_ind])\n",
    "#                 # por storage_pos (experiment dat)\n",
    "#                 for storage_pos in emo_data[id_pareto][id_ind].keys():\n",
    "#                 # for n_exp, emo_val in enumerate(emo_data[id_pareto][id_ind]):\n",
    "#                     # if has_attr(data_exp, \"emotion_evaluation\"):\n",
    "#                     #     emo_val = data_exp[\"emotion_evaluation\"]\n",
    "\n",
    "#                     emo_val = emo_data[id_pareto][id_ind][storage_pos]\n",
    "#                     labels = np.vstack((labels, [emo_val[\"valence\"], emo_val[\"arousal\"]]))\n",
    "                    \n",
    "#                     str_id = id_pareto\n",
    "#                     if len(emo_data[id_pareto][id_ind]) > 1:\n",
    "#                         str_id = f\"{id_pareto}/exp_{storage_pos}\"\n",
    "#                     id_fronts.append(str_id)\n",
    "#                     user_reg.append(user_name)\n",
    "\n",
    "#         labels_global = np.vstack((labels_global, labels))\n",
    "        \n",
    "#         # distribuciones\n",
    "#         valence, arousal, emo_class = get_distributions(labels)\n",
    "#         plot_distributions(user_name, valence, arousal, emo_class, dir_out, [0,1])\n",
    "\n",
    "#         gloval_v = np.vstack((gloval_v, valence[\"distribution\"]))\n",
    "#         gloval_a = np.vstack((gloval_a, arousal[\"distribution\"]))\n",
    "#         gloval_mc = np.vstack((gloval_mc, emo_class[\"distribution\"]))\n",
    "\n",
    "#     # promedios\n",
    "#     two_class = np.arange(2).astype(str)\n",
    "#     valence = {\"values\": two_class, \"distribution\": gloval_v.mean(axis=0)}\n",
    "#     arousal = {\"values\": two_class, \"distribution\": gloval_a.mean(axis=0)}\n",
    "#     emo_class = {\"values\": np.arange(4).astype(str), \"distribution\": gloval_mc.mean(axis=0)}\n",
    "#     plot_distributions(\"Autoevaluación BCI\", valence, arousal, emo_class, dir_out, range_final)\n",
    "#     plt.show()\n",
    "\n",
    "#     # guardado\n",
    "#     dir_out = \"./emotional_self-assessment\"\n",
    "#     if not os.path.isdir(dir_out):\n",
    "#         os.makedirs(dir_out)\n",
    "\n",
    "#     df = pd.DataFrame({\"valence\": labels_global[:,0], \"arousal\":labels_global[:,1], \"usuario\": user_reg, \"pareto\": id_fronts})\n",
    "#     fig = px.scatter(df, y=\"arousal\", x=\"valence\", color=\"usuario\", custom_data=['pareto'])\n",
    "#     fig.update_traces(marker_size=10)\n",
    "#     fig.update_traces(hovertemplate=\"<br>\".join([\"valence: %{x}\", \"arousal: %{y}\", \"pareto: %{customdata[0]}\"]))\n",
    "#     fig.add_shape(type=\"line\", x0=0.5, y0=0, x1=0.5,y1=1, xref='x', yref='y', line=dict(color=color_axes,))\n",
    "#     fig.add_shape(type=\"line\", x0=0, y0=0.5, x1=1,y1=0.5, xref='x', yref='y', line=dict(color=color_axes,))\n",
    "#     fig.add_shape(type=\"circle\", x0=0, y0=0, x1=1, y1=1, line=dict(color=color_axes),)\n",
    "#     fig.update_yaxes(scaleanchor=\"x\", scaleratio=1,)\n",
    "#     fig.update_layout(showlegend=True)\n",
    "#     fig.show()\n",
    "#     fig.write_image(f\"{dir_out}/neurocontrollers_by_users.pdf\")\n",
    "\n",
    "\n",
    "#     fig = px.scatter(df, y=\"arousal\", x=\"valence\", color=\"pareto\", custom_data=['usuario'])\n",
    "#     fig.update_traces(marker_size=10)\n",
    "#     fig.update_traces(hovertemplate=\"<br>\".join([\"valence: %{x}\", \"arousal: %{y}\", \"usuario: %{customdata[0]}\"]))\n",
    "#     fig.add_shape(type=\"line\", x0=0.5, y0=0, x1=0.5,y1=1, xref='x', yref='y', line=dict(color=color_axes,))\n",
    "#     fig.add_shape(type=\"line\", x0=0, y0=0.5, x1=1,y1=0.5, xref='x', yref='y', line=dict(color=color_axes,))\n",
    "#     fig.add_shape(type=\"circle\", x0=0, y0=0, x1=1, y1=1, line=dict(color=color_axes),)\n",
    "#     fig.update_yaxes(scaleanchor=\"x\", scaleratio=1,)\n",
    "#     fig.update_layout(showlegend=True)\n",
    "#     fig.show()\n",
    "#     fig.write_image(f\"{dir_out}/neurocontrollers_by_front.pdf\")\n",
    "    \n",
    "\n",
    "# calculate_optimized_dist()"
   ]
  }
 ],
 "metadata": {
  "kernelspec": {
   "display_name": "Python 3",
   "language": "python",
   "name": "python3"
  },
  "language_info": {
   "codemirror_mode": {
    "name": "ipython",
    "version": 3
   },
   "file_extension": ".py",
   "mimetype": "text/x-python",
   "name": "python",
   "nbconvert_exporter": "python",
   "pygments_lexer": "ipython3",
   "version": "3.8.10"
  },
  "orig_nbformat": 4,
  "vscode": {
   "interpreter": {
    "hash": "916dbcbb3f70747c44a77c7bcd40155683ae19c65e1c03b4aa3499c5328201f1"
   }
  }
 },
 "nbformat": 4,
 "nbformat_minor": 2
}

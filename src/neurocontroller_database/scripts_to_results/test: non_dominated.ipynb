{
 "cells": [
  {
   "cell_type": "code",
   "execution_count": 2,
   "metadata": {},
   "outputs": [],
   "source": [
    "import numpy as np\n",
    "import plotly.express as px\n",
    "import pandas as pd\n",
    "import plotly.graph_objects as go\n",
    "import sys, rospy\n",
    "import random\n",
    "from os.path import expanduser\n",
    "home = expanduser(\"~\") \n",
    "sys.path.insert(3, f\"{home}/catkin_ws/src/neurocontroller_database/src\")\n",
    "from utilities import root_database\n",
    "from ROS import load_object_space_ros\n",
    "from non_dominated import fast_non_dominated_sort\n",
    "from neurocontroller_database.srv import load_obj_space\n",
    "from distributed_individuals import select_inds, unique_inds, vect_proj, crowding_distance\n",
    "from PBI import PBI\n",
    "from pymoo.util.ref_dirs import get_reference_directions\n",
    "from pymoo.visualization.scatter import Scatter\n"
   ]
  },
  {
   "cell_type": "code",
   "execution_count": 8,
   "metadata": {},
   "outputs": [
    {
     "ename": "TypeError",
     "evalue": "list indices must be integers or slices, not list",
     "output_type": "error",
     "traceback": [
      "\u001b[0;31m---------------------------------------------------------------------------\u001b[0m",
      "\u001b[0;31mTypeError\u001b[0m                                 Traceback (most recent call last)",
      "Input \u001b[0;32mIn [8]\u001b[0m, in \u001b[0;36m<cell line: 12>\u001b[0;34m()\u001b[0m\n\u001b[1;32m      4\u001b[0m     \u001b[38;5;28mprint\u001b[39m(res[\u001b[38;5;124m\"\u001b[39m\u001b[38;5;124mid_pareto_inds\u001b[39m\u001b[38;5;124m\"\u001b[39m][[\u001b[38;5;241m1\u001b[39m,\u001b[38;5;241m2\u001b[39m]])\n\u001b[1;32m      5\u001b[0m     \u001b[38;5;66;03m# sel_inds = select_inds(points, get_all_data=True)\u001b[39;00m\n\u001b[1;32m      6\u001b[0m     \u001b[38;5;66;03m# # print(sel_inds[\"num_inds\"])\u001b[39;00m\n\u001b[1;32m      7\u001b[0m     \n\u001b[1;32m      8\u001b[0m     \u001b[38;5;66;03m# return unique_inds(sel_inds[\"distance\"])\u001b[39;00m\n\u001b[0;32m---> 12\u001b[0m \u001b[43mte\u001b[49m\u001b[43m(\u001b[49m\u001b[43m)\u001b[49m\n",
      "Input \u001b[0;32mIn [8]\u001b[0m, in \u001b[0;36mte\u001b[0;34m()\u001b[0m\n\u001b[1;32m      1\u001b[0m \u001b[38;5;28;01mdef\u001b[39;00m \u001b[38;5;21mte\u001b[39m():\n\u001b[1;32m      2\u001b[0m     res \u001b[38;5;241m=\u001b[39m load_object_space_ros(\u001b[38;5;124m\"\u001b[39m\u001b[38;5;124moptimized-8\u001b[39m\u001b[38;5;124m\"\u001b[39m, return_object\u001b[38;5;241m=\u001b[39m\u001b[38;5;28;01mTrue\u001b[39;00m, non_dominated\u001b[38;5;241m=\u001b[39m\u001b[38;5;28;01mTrue\u001b[39;00m)\n\u001b[0;32m----> 4\u001b[0m     \u001b[38;5;28mprint\u001b[39m(\u001b[43mres\u001b[49m\u001b[43m[\u001b[49m\u001b[38;5;124;43m\"\u001b[39;49m\u001b[38;5;124;43mid_pareto_inds\u001b[39;49m\u001b[38;5;124;43m\"\u001b[39;49m\u001b[43m]\u001b[49m\u001b[43m[\u001b[49m\u001b[43m[\u001b[49m\u001b[38;5;241;43m1\u001b[39;49m\u001b[43m,\u001b[49m\u001b[38;5;241;43m2\u001b[39;49m\u001b[43m]\u001b[49m\u001b[43m]\u001b[49m)\n",
      "\u001b[0;31mTypeError\u001b[0m: list indices must be integers or slices, not list"
     ]
    }
   ],
   "source": [
    "def te():\n",
    "    res = load_object_space_ros(\"optimized-8\", return_object=True, non_dominated=True)\n",
    "\n",
    "    print(res[\"id_pareto_inds\"][[1,2]])\n",
    "    # sel_inds = select_inds(points, get_all_data=True)\n",
    "    # # print(sel_inds[\"num_inds\"])\n",
    "    \n",
    "    # return unique_inds(sel_inds[\"distance\"])\n",
    "       \n",
    "\n",
    "\n",
    "te()"
   ]
  },
  {
   "cell_type": "code",
   "execution_count": 3,
   "metadata": {},
   "outputs": [],
   "source": [
    "\n",
    "# def size_pop(ini, end):\n",
    "\n",
    "#     for i in range(ini, end):\n",
    "#         id_pareto = f\"optimized-{i}\"\n",
    "\n",
    "#         points = load_object_space_ros_non_dom(id_pareto, non_dominated=True)\n",
    "\n",
    "#         print(points.shape)\n",
    "\n",
    "\n",
    "# size_pop(1,60)\n",
    "    "
   ]
  },
  {
   "cell_type": "code",
   "execution_count": 4,
   "metadata": {},
   "outputs": [],
   "source": [
    "# points = np.random.random((100,2))\n",
    "\n",
    "# non_dom = fast_non_dominated_sort(points)\n",
    "# fig = px.scatter(pd.DataFrame({\"rank\":non_dom, \"x\":points[:,0], \"y\":points[:,1]}), x=\"x\", y=\"y\", color=\"rank\")\n",
    "# fig.show()"
   ]
  },
  {
   "cell_type": "code",
   "execution_count": 5,
   "metadata": {},
   "outputs": [
    {
     "data": {
      "application/vnd.plotly.v1+json": {
       "config": {
        "plotlyServerURL": "https://plot.ly"
       },
       "data": [
        {
         "hovertemplate": "x=%{x}<br>y=%{y}<br>z=%{z}<br>c=%{marker.color}<extra></extra>",
         "legendgroup": "",
         "marker": {
          "color": [
           0,
           1,
           2,
           3,
           4,
           5,
           6,
           7,
           8,
           9
          ],
          "coloraxis": "coloraxis",
          "symbol": "circle"
         },
         "mode": "markers",
         "name": "",
         "scene": "scene",
         "showlegend": false,
         "type": "scatter3d",
         "x": [
          0,
          0,
          0,
          0,
          0.3333333333333333,
          0.3333333333333333,
          0.3333333333333333,
          0.6666666666666666,
          0.6666666666666666,
          1
         ],
         "y": [
          0,
          0.3333333333333333,
          0.6666666666666666,
          1,
          0,
          0.3333333333333333,
          0.6666666666666666,
          0,
          0.3333333333333333,
          0
         ],
         "z": [
          1,
          0.6666666666666666,
          0.3333333333333333,
          0,
          0.6666666666666666,
          0.3333333333333333,
          0,
          0.3333333333333333,
          0,
          0
         ]
        }
       ],
       "layout": {
        "coloraxis": {
         "colorbar": {
          "title": {
           "text": "c"
          }
         },
         "colorscale": [
          [
           0,
           "#0d0887"
          ],
          [
           0.1111111111111111,
           "#46039f"
          ],
          [
           0.2222222222222222,
           "#7201a8"
          ],
          [
           0.3333333333333333,
           "#9c179e"
          ],
          [
           0.4444444444444444,
           "#bd3786"
          ],
          [
           0.5555555555555556,
           "#d8576b"
          ],
          [
           0.6666666666666666,
           "#ed7953"
          ],
          [
           0.7777777777777778,
           "#fb9f3a"
          ],
          [
           0.8888888888888888,
           "#fdca26"
          ],
          [
           1,
           "#f0f921"
          ]
         ]
        },
        "legend": {
         "tracegroupgap": 0
        },
        "margin": {
         "t": 60
        },
        "scene": {
         "domain": {
          "x": [
           0,
           1
          ],
          "y": [
           0,
           1
          ]
         },
         "xaxis": {
          "title": {
           "text": "x"
          }
         },
         "yaxis": {
          "title": {
           "text": "y"
          }
         },
         "zaxis": {
          "title": {
           "text": "z"
          }
         }
        },
        "template": {
         "data": {
          "bar": [
           {
            "error_x": {
             "color": "#2a3f5f"
            },
            "error_y": {
             "color": "#2a3f5f"
            },
            "marker": {
             "line": {
              "color": "#E5ECF6",
              "width": 0.5
             },
             "pattern": {
              "fillmode": "overlay",
              "size": 10,
              "solidity": 0.2
             }
            },
            "type": "bar"
           }
          ],
          "barpolar": [
           {
            "marker": {
             "line": {
              "color": "#E5ECF6",
              "width": 0.5
             },
             "pattern": {
              "fillmode": "overlay",
              "size": 10,
              "solidity": 0.2
             }
            },
            "type": "barpolar"
           }
          ],
          "carpet": [
           {
            "aaxis": {
             "endlinecolor": "#2a3f5f",
             "gridcolor": "white",
             "linecolor": "white",
             "minorgridcolor": "white",
             "startlinecolor": "#2a3f5f"
            },
            "baxis": {
             "endlinecolor": "#2a3f5f",
             "gridcolor": "white",
             "linecolor": "white",
             "minorgridcolor": "white",
             "startlinecolor": "#2a3f5f"
            },
            "type": "carpet"
           }
          ],
          "choropleth": [
           {
            "colorbar": {
             "outlinewidth": 0,
             "ticks": ""
            },
            "type": "choropleth"
           }
          ],
          "contour": [
           {
            "colorbar": {
             "outlinewidth": 0,
             "ticks": ""
            },
            "colorscale": [
             [
              0,
              "#0d0887"
             ],
             [
              0.1111111111111111,
              "#46039f"
             ],
             [
              0.2222222222222222,
              "#7201a8"
             ],
             [
              0.3333333333333333,
              "#9c179e"
             ],
             [
              0.4444444444444444,
              "#bd3786"
             ],
             [
              0.5555555555555556,
              "#d8576b"
             ],
             [
              0.6666666666666666,
              "#ed7953"
             ],
             [
              0.7777777777777778,
              "#fb9f3a"
             ],
             [
              0.8888888888888888,
              "#fdca26"
             ],
             [
              1,
              "#f0f921"
             ]
            ],
            "type": "contour"
           }
          ],
          "contourcarpet": [
           {
            "colorbar": {
             "outlinewidth": 0,
             "ticks": ""
            },
            "type": "contourcarpet"
           }
          ],
          "heatmap": [
           {
            "colorbar": {
             "outlinewidth": 0,
             "ticks": ""
            },
            "colorscale": [
             [
              0,
              "#0d0887"
             ],
             [
              0.1111111111111111,
              "#46039f"
             ],
             [
              0.2222222222222222,
              "#7201a8"
             ],
             [
              0.3333333333333333,
              "#9c179e"
             ],
             [
              0.4444444444444444,
              "#bd3786"
             ],
             [
              0.5555555555555556,
              "#d8576b"
             ],
             [
              0.6666666666666666,
              "#ed7953"
             ],
             [
              0.7777777777777778,
              "#fb9f3a"
             ],
             [
              0.8888888888888888,
              "#fdca26"
             ],
             [
              1,
              "#f0f921"
             ]
            ],
            "type": "heatmap"
           }
          ],
          "heatmapgl": [
           {
            "colorbar": {
             "outlinewidth": 0,
             "ticks": ""
            },
            "colorscale": [
             [
              0,
              "#0d0887"
             ],
             [
              0.1111111111111111,
              "#46039f"
             ],
             [
              0.2222222222222222,
              "#7201a8"
             ],
             [
              0.3333333333333333,
              "#9c179e"
             ],
             [
              0.4444444444444444,
              "#bd3786"
             ],
             [
              0.5555555555555556,
              "#d8576b"
             ],
             [
              0.6666666666666666,
              "#ed7953"
             ],
             [
              0.7777777777777778,
              "#fb9f3a"
             ],
             [
              0.8888888888888888,
              "#fdca26"
             ],
             [
              1,
              "#f0f921"
             ]
            ],
            "type": "heatmapgl"
           }
          ],
          "histogram": [
           {
            "marker": {
             "pattern": {
              "fillmode": "overlay",
              "size": 10,
              "solidity": 0.2
             }
            },
            "type": "histogram"
           }
          ],
          "histogram2d": [
           {
            "colorbar": {
             "outlinewidth": 0,
             "ticks": ""
            },
            "colorscale": [
             [
              0,
              "#0d0887"
             ],
             [
              0.1111111111111111,
              "#46039f"
             ],
             [
              0.2222222222222222,
              "#7201a8"
             ],
             [
              0.3333333333333333,
              "#9c179e"
             ],
             [
              0.4444444444444444,
              "#bd3786"
             ],
             [
              0.5555555555555556,
              "#d8576b"
             ],
             [
              0.6666666666666666,
              "#ed7953"
             ],
             [
              0.7777777777777778,
              "#fb9f3a"
             ],
             [
              0.8888888888888888,
              "#fdca26"
             ],
             [
              1,
              "#f0f921"
             ]
            ],
            "type": "histogram2d"
           }
          ],
          "histogram2dcontour": [
           {
            "colorbar": {
             "outlinewidth": 0,
             "ticks": ""
            },
            "colorscale": [
             [
              0,
              "#0d0887"
             ],
             [
              0.1111111111111111,
              "#46039f"
             ],
             [
              0.2222222222222222,
              "#7201a8"
             ],
             [
              0.3333333333333333,
              "#9c179e"
             ],
             [
              0.4444444444444444,
              "#bd3786"
             ],
             [
              0.5555555555555556,
              "#d8576b"
             ],
             [
              0.6666666666666666,
              "#ed7953"
             ],
             [
              0.7777777777777778,
              "#fb9f3a"
             ],
             [
              0.8888888888888888,
              "#fdca26"
             ],
             [
              1,
              "#f0f921"
             ]
            ],
            "type": "histogram2dcontour"
           }
          ],
          "mesh3d": [
           {
            "colorbar": {
             "outlinewidth": 0,
             "ticks": ""
            },
            "type": "mesh3d"
           }
          ],
          "parcoords": [
           {
            "line": {
             "colorbar": {
              "outlinewidth": 0,
              "ticks": ""
             }
            },
            "type": "parcoords"
           }
          ],
          "pie": [
           {
            "automargin": true,
            "type": "pie"
           }
          ],
          "scatter": [
           {
            "fillpattern": {
             "fillmode": "overlay",
             "size": 10,
             "solidity": 0.2
            },
            "type": "scatter"
           }
          ],
          "scatter3d": [
           {
            "line": {
             "colorbar": {
              "outlinewidth": 0,
              "ticks": ""
             }
            },
            "marker": {
             "colorbar": {
              "outlinewidth": 0,
              "ticks": ""
             }
            },
            "type": "scatter3d"
           }
          ],
          "scattercarpet": [
           {
            "marker": {
             "colorbar": {
              "outlinewidth": 0,
              "ticks": ""
             }
            },
            "type": "scattercarpet"
           }
          ],
          "scattergeo": [
           {
            "marker": {
             "colorbar": {
              "outlinewidth": 0,
              "ticks": ""
             }
            },
            "type": "scattergeo"
           }
          ],
          "scattergl": [
           {
            "marker": {
             "colorbar": {
              "outlinewidth": 0,
              "ticks": ""
             }
            },
            "type": "scattergl"
           }
          ],
          "scattermapbox": [
           {
            "marker": {
             "colorbar": {
              "outlinewidth": 0,
              "ticks": ""
             }
            },
            "type": "scattermapbox"
           }
          ],
          "scatterpolar": [
           {
            "marker": {
             "colorbar": {
              "outlinewidth": 0,
              "ticks": ""
             }
            },
            "type": "scatterpolar"
           }
          ],
          "scatterpolargl": [
           {
            "marker": {
             "colorbar": {
              "outlinewidth": 0,
              "ticks": ""
             }
            },
            "type": "scatterpolargl"
           }
          ],
          "scatterternary": [
           {
            "marker": {
             "colorbar": {
              "outlinewidth": 0,
              "ticks": ""
             }
            },
            "type": "scatterternary"
           }
          ],
          "surface": [
           {
            "colorbar": {
             "outlinewidth": 0,
             "ticks": ""
            },
            "colorscale": [
             [
              0,
              "#0d0887"
             ],
             [
              0.1111111111111111,
              "#46039f"
             ],
             [
              0.2222222222222222,
              "#7201a8"
             ],
             [
              0.3333333333333333,
              "#9c179e"
             ],
             [
              0.4444444444444444,
              "#bd3786"
             ],
             [
              0.5555555555555556,
              "#d8576b"
             ],
             [
              0.6666666666666666,
              "#ed7953"
             ],
             [
              0.7777777777777778,
              "#fb9f3a"
             ],
             [
              0.8888888888888888,
              "#fdca26"
             ],
             [
              1,
              "#f0f921"
             ]
            ],
            "type": "surface"
           }
          ],
          "table": [
           {
            "cells": {
             "fill": {
              "color": "#EBF0F8"
             },
             "line": {
              "color": "white"
             }
            },
            "header": {
             "fill": {
              "color": "#C8D4E3"
             },
             "line": {
              "color": "white"
             }
            },
            "type": "table"
           }
          ]
         },
         "layout": {
          "annotationdefaults": {
           "arrowcolor": "#2a3f5f",
           "arrowhead": 0,
           "arrowwidth": 1
          },
          "autotypenumbers": "strict",
          "coloraxis": {
           "colorbar": {
            "outlinewidth": 0,
            "ticks": ""
           }
          },
          "colorscale": {
           "diverging": [
            [
             0,
             "#8e0152"
            ],
            [
             0.1,
             "#c51b7d"
            ],
            [
             0.2,
             "#de77ae"
            ],
            [
             0.3,
             "#f1b6da"
            ],
            [
             0.4,
             "#fde0ef"
            ],
            [
             0.5,
             "#f7f7f7"
            ],
            [
             0.6,
             "#e6f5d0"
            ],
            [
             0.7,
             "#b8e186"
            ],
            [
             0.8,
             "#7fbc41"
            ],
            [
             0.9,
             "#4d9221"
            ],
            [
             1,
             "#276419"
            ]
           ],
           "sequential": [
            [
             0,
             "#0d0887"
            ],
            [
             0.1111111111111111,
             "#46039f"
            ],
            [
             0.2222222222222222,
             "#7201a8"
            ],
            [
             0.3333333333333333,
             "#9c179e"
            ],
            [
             0.4444444444444444,
             "#bd3786"
            ],
            [
             0.5555555555555556,
             "#d8576b"
            ],
            [
             0.6666666666666666,
             "#ed7953"
            ],
            [
             0.7777777777777778,
             "#fb9f3a"
            ],
            [
             0.8888888888888888,
             "#fdca26"
            ],
            [
             1,
             "#f0f921"
            ]
           ],
           "sequentialminus": [
            [
             0,
             "#0d0887"
            ],
            [
             0.1111111111111111,
             "#46039f"
            ],
            [
             0.2222222222222222,
             "#7201a8"
            ],
            [
             0.3333333333333333,
             "#9c179e"
            ],
            [
             0.4444444444444444,
             "#bd3786"
            ],
            [
             0.5555555555555556,
             "#d8576b"
            ],
            [
             0.6666666666666666,
             "#ed7953"
            ],
            [
             0.7777777777777778,
             "#fb9f3a"
            ],
            [
             0.8888888888888888,
             "#fdca26"
            ],
            [
             1,
             "#f0f921"
            ]
           ]
          },
          "colorway": [
           "#636efa",
           "#EF553B",
           "#00cc96",
           "#ab63fa",
           "#FFA15A",
           "#19d3f3",
           "#FF6692",
           "#B6E880",
           "#FF97FF",
           "#FECB52"
          ],
          "font": {
           "color": "#2a3f5f"
          },
          "geo": {
           "bgcolor": "white",
           "lakecolor": "white",
           "landcolor": "#E5ECF6",
           "showlakes": true,
           "showland": true,
           "subunitcolor": "white"
          },
          "hoverlabel": {
           "align": "left"
          },
          "hovermode": "closest",
          "mapbox": {
           "style": "light"
          },
          "paper_bgcolor": "white",
          "plot_bgcolor": "#E5ECF6",
          "polar": {
           "angularaxis": {
            "gridcolor": "white",
            "linecolor": "white",
            "ticks": ""
           },
           "bgcolor": "#E5ECF6",
           "radialaxis": {
            "gridcolor": "white",
            "linecolor": "white",
            "ticks": ""
           }
          },
          "scene": {
           "xaxis": {
            "backgroundcolor": "#E5ECF6",
            "gridcolor": "white",
            "gridwidth": 2,
            "linecolor": "white",
            "showbackground": true,
            "ticks": "",
            "zerolinecolor": "white"
           },
           "yaxis": {
            "backgroundcolor": "#E5ECF6",
            "gridcolor": "white",
            "gridwidth": 2,
            "linecolor": "white",
            "showbackground": true,
            "ticks": "",
            "zerolinecolor": "white"
           },
           "zaxis": {
            "backgroundcolor": "#E5ECF6",
            "gridcolor": "white",
            "gridwidth": 2,
            "linecolor": "white",
            "showbackground": true,
            "ticks": "",
            "zerolinecolor": "white"
           }
          },
          "shapedefaults": {
           "line": {
            "color": "#2a3f5f"
           }
          },
          "ternary": {
           "aaxis": {
            "gridcolor": "white",
            "linecolor": "white",
            "ticks": ""
           },
           "baxis": {
            "gridcolor": "white",
            "linecolor": "white",
            "ticks": ""
           },
           "bgcolor": "#E5ECF6",
           "caxis": {
            "gridcolor": "white",
            "linecolor": "white",
            "ticks": ""
           }
          },
          "title": {
           "x": 0.05
          },
          "xaxis": {
           "automargin": true,
           "gridcolor": "white",
           "linecolor": "white",
           "ticks": "",
           "title": {
            "standoff": 15
           },
           "zerolinecolor": "white",
           "zerolinewidth": 2
          },
          "yaxis": {
           "automargin": true,
           "gridcolor": "white",
           "linecolor": "white",
           "ticks": "",
           "title": {
            "standoff": 15
           },
           "zerolinecolor": "white",
           "zerolinewidth": 2
          }
         }
        }
       }
      }
     },
     "metadata": {},
     "output_type": "display_data"
    }
   ],
   "source": [
    "ref_dirs = get_reference_directions(\"uniform\", 3, n_partitions=3, seed=1)\n",
    "\n",
    "# Scatter().add(ref_dirs).show()\n",
    "f = px.scatter_3d(pd.DataFrame({\"x\":ref_dirs[:,0], \"y\":ref_dirs[:,1], \"z\":ref_dirs[:,2],\"c\":np.arange(ref_dirs.shape[0])}), x=\"x\", y=\"y\", z=\"z\", color=\"c\")\n",
    "f.show()"
   ]
  },
  {
   "cell_type": "code",
   "execution_count": 6,
   "metadata": {},
   "outputs": [],
   "source": [
    "\n",
    "def unit_vector(vector):\n",
    "    \"\"\" Returns the unit vector of the vector.  \"\"\"\n",
    "    if len(vector.shape) == 1:\n",
    "        vector = np.array([vector])\n",
    "        \n",
    "    return vector / np.repeat(np.linalg.norm(vector, axis=1), vector.shape[1]).reshape(vector.shape)\n",
    "\n",
    "def angle_between(v1, v2):\n",
    "    \"\"\" Returns the angle in radians between vectors 'v1' and 'v2'::\n",
    "\n",
    "            >>> angle_between((1, 0, 0), (0, 1, 0))\n",
    "            1.5707963267948966\n",
    "            >>> angle_between((1, 0, 0), (1, 0, 0))\n",
    "            0.0\n",
    "            >>> angle_between((1, 0, 0), (-1, 0, 0))\n",
    "            3.141592653589793\n",
    "    \"\"\"\n",
    "    v1_u = unit_vector(v1)\n",
    "    v2_u = unit_vector(v2)\n",
    "    print(v1_u.shape, v2_u.shape)\n",
    "    return np.arccos(np.clip(np.dot(v1_u, v2_u.T), -1.0, 1.0))\n",
    "\n",
    "def sphere_():\n",
    "    a = 15\n",
    "    r = 0.2\n",
    "    theta = np.radians(np.linspace(0, 360, a+1))\n",
    "    phi = np.radians(np.linspace(0, 360, a+1))\n",
    "\n",
    "    x = r * np.einsum(\"i,j->ij\", np.cos(phi), np.sin(theta))\n",
    "    y = r * np.einsum(\"i,j->ij\", np.sin(phi), np.sin(theta))\n",
    "    z = r * np.einsum(\"i,j->ij\", np.ones(len(theta)), np.cos(theta))\n",
    "    sp = np.array([x.flatten(), y.flatten(), z.flatten()])\n",
    "    sp = sp.transpose(1,0) + 10\n",
    "\n",
    "\n",
    "    # df_s = pd.DataFrame({\"x\":sp[:,0], \"y\":sp[:,1], \"z\":sp[:,2]})\n",
    "    # fig = px.scatter_3d(df_s, x=\"x\", y=\"y\", z=\"z\")\n",
    "    # fig.show()\n",
    "\n",
    "    return sp\n",
    "    \n",
    "    \n",
    "def test_dist(id_pareto=\"\", is_crowding_distance=False):\n",
    "    if id_pareto == \"\":\n",
    "        sp = sphere_()\n",
    "        rank = fast_non_dominated_sort(sp)\n",
    "        sp = sp[rank == 1]\n",
    "    else:\n",
    "        sp = load_object_space_ros_non_dom(id_pareto)\n",
    "\n",
    "    # df_s = pd.DataFrame({\"x\":sp[:,0], \"y\":sp[:,1], \"z\":sp[:,2]})\n",
    "    # fig = px.scatter_3d(df_s, x=\"x\", y=\"y\", z=\"z\")\n",
    "    # fig.show()\n",
    "\n",
    "    inds = select_inds(sp, is_crowding_dist=is_crowding_distance, get_all_data=True)\n",
    "    points = inds[\"points\"]\n",
    "    sel_inds = inds[\"num_inds\"]\n",
    "    print(sel_inds)\n",
    "\n",
    "    # num points\n",
    "    col = np.full(points.shape[0], \"point\")\n",
    "    # inds selected\n",
    "    col[sel_inds] = \"sel\"\n",
    "    \n",
    "    if not is_crowding_distance:\n",
    "        ref_points = inds[\"ref_points\"]\n",
    "        points = np.vstack((points, ref_points))\n",
    "        col = np.append(col, [\"ref\"]*ref_points.shape[0])\n",
    "\n",
    "\n",
    "\n",
    "    df_s = pd.DataFrame({\"x\":points[:,0], \"y\":points[:,1], \"z\":points[:,2], \"c\":col})\n",
    "    fig = px.scatter_3d(df_s, x=\"x\", y=\"y\", z=\"z\", color=\"c\")\n",
    "    fig.show()"
   ]
  },
  {
   "cell_type": "code",
   "execution_count": 7,
   "metadata": {},
   "outputs": [
    {
     "name": "stdout",
     "output_type": "stream",
     "text": [
      "[11  1 10 30]\n"
     ]
    },
    {
     "data": {
      "application/vnd.plotly.v1+json": {
       "config": {
        "plotlyServerURL": "https://plot.ly"
       },
       "data": [
        {
         "hovertemplate": "c=point<br>x=%{x}<br>y=%{y}<br>z=%{z}<extra></extra>",
         "legendgroup": "point",
         "marker": {
          "color": "#636efa",
          "symbol": "circle"
         },
         "mode": "markers",
         "name": "point",
         "scene": "scene",
         "showlegend": true,
         "type": "scatter3d",
         "x": [
          0.8086132122302652,
          0.13209078679484149,
          0,
          0.8270909152851983,
          0.47035199951254875,
          0.20905692653530394,
          0.08838598826245228,
          0.8793290617271392,
          0.6180339887498943,
          0.9562952014676108,
          0.83562426319475,
          0.7472382749323069,
          0.7064199770123376,
          0.022340594865026972,
          0.15154488104743943,
          0.43131765707961744,
          0.813283668329723,
          0.19524967957982864,
          0.30211337089720497,
          0.533510892297545,
          0.8494315101502253,
          0.5111702974325181,
          0.5772156908299342,
          0.720227223967822,
          0.9154769035476507,
          0.9154769035476507,
          0.929284150503126,
          1,
          0.8086132122302652,
          0.418113853070617,
          0.13209078679484149,
          0
         ],
         "y": [
          1,
          1,
          1,
          0.9145005123499773,
          0.758285175203086,
          0.6438645271738278,
          0.5910229377854104,
          0.8437846628531087,
          0.558365039523805,
          0.800079864320719,
          0.4348076006385192,
          0.16726223741767562,
          0.04370479853238976,
          0.7909430734646914,
          0.8179541244291791,
          0.8764425611147141,
          0.9562952014676103,
          0.40897706221458957,
          0.4853397590085847,
          0.6506918870115035,
          0.8764425611147141,
          0.12920428618241248,
          0.24171482479691395,
          0.4853397590085847,
          0.8179541244291791,
          0,
          0.12920428618241248,
          0.7909430734646914,
          1,
          1,
          1,
          1
         ],
         "z": [
          0,
          0.5473181392530243,
          1,
          0,
          0.19359764353309458,
          0.5473181392530243,
          1,
          0,
          0.19359764353309458,
          0,
          0.19359764353309458,
          0.5473181392530243,
          1,
          1,
          0.5473181392530243,
          0.19359764353309458,
          0,
          1,
          0.5473181392530243,
          0.19359764353309458,
          0,
          1,
          0.5473181392530243,
          0.19359764353309458,
          0,
          1,
          0.5473181392530243,
          0,
          0,
          0.19359764353309458,
          0.5473181392530243,
          1
         ]
        },
        {
         "hovertemplate": "c=sel<br>x=%{x}<br>y=%{y}<br>z=%{z}<extra></extra>",
         "legendgroup": "sel",
         "marker": {
          "color": "#EF553B",
          "symbol": "circle"
         },
         "mode": "markers",
         "name": "sel",
         "scene": "scene",
         "showlegend": true,
         "type": "scatter3d",
         "x": [
          0.418113853070617,
          0.4266472009801595,
          0.33826121271771636,
          0.9591817020800398
         ],
         "y": [
          1,
          0.34930811298850545,
          0.25276172506769834,
          0.40897706221458957
         ],
         "z": [
          0.19359764353309458,
          0.5473181392530243,
          1,
          0.19359764353309458
         ]
        },
        {
         "hovertemplate": "c=ref<br>x=%{x}<br>y=%{y}<br>z=%{z}<extra></extra>",
         "legendgroup": "ref",
         "marker": {
          "color": "#00cc96",
          "symbol": "circle"
         },
         "mode": "markers",
         "name": "ref",
         "scene": "scene",
         "showlegend": true,
         "type": "scatter3d",
         "x": [
          0,
          0,
          0,
          0,
          0.3333333333333333,
          0.3333333333333333,
          0.3333333333333333,
          0.6666666666666666,
          0.6666666666666666,
          1
         ],
         "y": [
          0,
          0.3333333333333333,
          0.6666666666666666,
          1,
          0,
          0.3333333333333333,
          0.6666666666666666,
          0,
          0.3333333333333333,
          0
         ],
         "z": [
          1,
          0.6666666666666666,
          0.3333333333333333,
          0,
          0.6666666666666666,
          0.3333333333333333,
          0,
          0.3333333333333333,
          0,
          0
         ]
        }
       ],
       "layout": {
        "legend": {
         "title": {
          "text": "c"
         },
         "tracegroupgap": 0
        },
        "margin": {
         "t": 60
        },
        "scene": {
         "domain": {
          "x": [
           0,
           1
          ],
          "y": [
           0,
           1
          ]
         },
         "xaxis": {
          "title": {
           "text": "x"
          }
         },
         "yaxis": {
          "title": {
           "text": "y"
          }
         },
         "zaxis": {
          "title": {
           "text": "z"
          }
         }
        },
        "template": {
         "data": {
          "bar": [
           {
            "error_x": {
             "color": "#2a3f5f"
            },
            "error_y": {
             "color": "#2a3f5f"
            },
            "marker": {
             "line": {
              "color": "#E5ECF6",
              "width": 0.5
             },
             "pattern": {
              "fillmode": "overlay",
              "size": 10,
              "solidity": 0.2
             }
            },
            "type": "bar"
           }
          ],
          "barpolar": [
           {
            "marker": {
             "line": {
              "color": "#E5ECF6",
              "width": 0.5
             },
             "pattern": {
              "fillmode": "overlay",
              "size": 10,
              "solidity": 0.2
             }
            },
            "type": "barpolar"
           }
          ],
          "carpet": [
           {
            "aaxis": {
             "endlinecolor": "#2a3f5f",
             "gridcolor": "white",
             "linecolor": "white",
             "minorgridcolor": "white",
             "startlinecolor": "#2a3f5f"
            },
            "baxis": {
             "endlinecolor": "#2a3f5f",
             "gridcolor": "white",
             "linecolor": "white",
             "minorgridcolor": "white",
             "startlinecolor": "#2a3f5f"
            },
            "type": "carpet"
           }
          ],
          "choropleth": [
           {
            "colorbar": {
             "outlinewidth": 0,
             "ticks": ""
            },
            "type": "choropleth"
           }
          ],
          "contour": [
           {
            "colorbar": {
             "outlinewidth": 0,
             "ticks": ""
            },
            "colorscale": [
             [
              0,
              "#0d0887"
             ],
             [
              0.1111111111111111,
              "#46039f"
             ],
             [
              0.2222222222222222,
              "#7201a8"
             ],
             [
              0.3333333333333333,
              "#9c179e"
             ],
             [
              0.4444444444444444,
              "#bd3786"
             ],
             [
              0.5555555555555556,
              "#d8576b"
             ],
             [
              0.6666666666666666,
              "#ed7953"
             ],
             [
              0.7777777777777778,
              "#fb9f3a"
             ],
             [
              0.8888888888888888,
              "#fdca26"
             ],
             [
              1,
              "#f0f921"
             ]
            ],
            "type": "contour"
           }
          ],
          "contourcarpet": [
           {
            "colorbar": {
             "outlinewidth": 0,
             "ticks": ""
            },
            "type": "contourcarpet"
           }
          ],
          "heatmap": [
           {
            "colorbar": {
             "outlinewidth": 0,
             "ticks": ""
            },
            "colorscale": [
             [
              0,
              "#0d0887"
             ],
             [
              0.1111111111111111,
              "#46039f"
             ],
             [
              0.2222222222222222,
              "#7201a8"
             ],
             [
              0.3333333333333333,
              "#9c179e"
             ],
             [
              0.4444444444444444,
              "#bd3786"
             ],
             [
              0.5555555555555556,
              "#d8576b"
             ],
             [
              0.6666666666666666,
              "#ed7953"
             ],
             [
              0.7777777777777778,
              "#fb9f3a"
             ],
             [
              0.8888888888888888,
              "#fdca26"
             ],
             [
              1,
              "#f0f921"
             ]
            ],
            "type": "heatmap"
           }
          ],
          "heatmapgl": [
           {
            "colorbar": {
             "outlinewidth": 0,
             "ticks": ""
            },
            "colorscale": [
             [
              0,
              "#0d0887"
             ],
             [
              0.1111111111111111,
              "#46039f"
             ],
             [
              0.2222222222222222,
              "#7201a8"
             ],
             [
              0.3333333333333333,
              "#9c179e"
             ],
             [
              0.4444444444444444,
              "#bd3786"
             ],
             [
              0.5555555555555556,
              "#d8576b"
             ],
             [
              0.6666666666666666,
              "#ed7953"
             ],
             [
              0.7777777777777778,
              "#fb9f3a"
             ],
             [
              0.8888888888888888,
              "#fdca26"
             ],
             [
              1,
              "#f0f921"
             ]
            ],
            "type": "heatmapgl"
           }
          ],
          "histogram": [
           {
            "marker": {
             "pattern": {
              "fillmode": "overlay",
              "size": 10,
              "solidity": 0.2
             }
            },
            "type": "histogram"
           }
          ],
          "histogram2d": [
           {
            "colorbar": {
             "outlinewidth": 0,
             "ticks": ""
            },
            "colorscale": [
             [
              0,
              "#0d0887"
             ],
             [
              0.1111111111111111,
              "#46039f"
             ],
             [
              0.2222222222222222,
              "#7201a8"
             ],
             [
              0.3333333333333333,
              "#9c179e"
             ],
             [
              0.4444444444444444,
              "#bd3786"
             ],
             [
              0.5555555555555556,
              "#d8576b"
             ],
             [
              0.6666666666666666,
              "#ed7953"
             ],
             [
              0.7777777777777778,
              "#fb9f3a"
             ],
             [
              0.8888888888888888,
              "#fdca26"
             ],
             [
              1,
              "#f0f921"
             ]
            ],
            "type": "histogram2d"
           }
          ],
          "histogram2dcontour": [
           {
            "colorbar": {
             "outlinewidth": 0,
             "ticks": ""
            },
            "colorscale": [
             [
              0,
              "#0d0887"
             ],
             [
              0.1111111111111111,
              "#46039f"
             ],
             [
              0.2222222222222222,
              "#7201a8"
             ],
             [
              0.3333333333333333,
              "#9c179e"
             ],
             [
              0.4444444444444444,
              "#bd3786"
             ],
             [
              0.5555555555555556,
              "#d8576b"
             ],
             [
              0.6666666666666666,
              "#ed7953"
             ],
             [
              0.7777777777777778,
              "#fb9f3a"
             ],
             [
              0.8888888888888888,
              "#fdca26"
             ],
             [
              1,
              "#f0f921"
             ]
            ],
            "type": "histogram2dcontour"
           }
          ],
          "mesh3d": [
           {
            "colorbar": {
             "outlinewidth": 0,
             "ticks": ""
            },
            "type": "mesh3d"
           }
          ],
          "parcoords": [
           {
            "line": {
             "colorbar": {
              "outlinewidth": 0,
              "ticks": ""
             }
            },
            "type": "parcoords"
           }
          ],
          "pie": [
           {
            "automargin": true,
            "type": "pie"
           }
          ],
          "scatter": [
           {
            "fillpattern": {
             "fillmode": "overlay",
             "size": 10,
             "solidity": 0.2
            },
            "type": "scatter"
           }
          ],
          "scatter3d": [
           {
            "line": {
             "colorbar": {
              "outlinewidth": 0,
              "ticks": ""
             }
            },
            "marker": {
             "colorbar": {
              "outlinewidth": 0,
              "ticks": ""
             }
            },
            "type": "scatter3d"
           }
          ],
          "scattercarpet": [
           {
            "marker": {
             "colorbar": {
              "outlinewidth": 0,
              "ticks": ""
             }
            },
            "type": "scattercarpet"
           }
          ],
          "scattergeo": [
           {
            "marker": {
             "colorbar": {
              "outlinewidth": 0,
              "ticks": ""
             }
            },
            "type": "scattergeo"
           }
          ],
          "scattergl": [
           {
            "marker": {
             "colorbar": {
              "outlinewidth": 0,
              "ticks": ""
             }
            },
            "type": "scattergl"
           }
          ],
          "scattermapbox": [
           {
            "marker": {
             "colorbar": {
              "outlinewidth": 0,
              "ticks": ""
             }
            },
            "type": "scattermapbox"
           }
          ],
          "scatterpolar": [
           {
            "marker": {
             "colorbar": {
              "outlinewidth": 0,
              "ticks": ""
             }
            },
            "type": "scatterpolar"
           }
          ],
          "scatterpolargl": [
           {
            "marker": {
             "colorbar": {
              "outlinewidth": 0,
              "ticks": ""
             }
            },
            "type": "scatterpolargl"
           }
          ],
          "scatterternary": [
           {
            "marker": {
             "colorbar": {
              "outlinewidth": 0,
              "ticks": ""
             }
            },
            "type": "scatterternary"
           }
          ],
          "surface": [
           {
            "colorbar": {
             "outlinewidth": 0,
             "ticks": ""
            },
            "colorscale": [
             [
              0,
              "#0d0887"
             ],
             [
              0.1111111111111111,
              "#46039f"
             ],
             [
              0.2222222222222222,
              "#7201a8"
             ],
             [
              0.3333333333333333,
              "#9c179e"
             ],
             [
              0.4444444444444444,
              "#bd3786"
             ],
             [
              0.5555555555555556,
              "#d8576b"
             ],
             [
              0.6666666666666666,
              "#ed7953"
             ],
             [
              0.7777777777777778,
              "#fb9f3a"
             ],
             [
              0.8888888888888888,
              "#fdca26"
             ],
             [
              1,
              "#f0f921"
             ]
            ],
            "type": "surface"
           }
          ],
          "table": [
           {
            "cells": {
             "fill": {
              "color": "#EBF0F8"
             },
             "line": {
              "color": "white"
             }
            },
            "header": {
             "fill": {
              "color": "#C8D4E3"
             },
             "line": {
              "color": "white"
             }
            },
            "type": "table"
           }
          ]
         },
         "layout": {
          "annotationdefaults": {
           "arrowcolor": "#2a3f5f",
           "arrowhead": 0,
           "arrowwidth": 1
          },
          "autotypenumbers": "strict",
          "coloraxis": {
           "colorbar": {
            "outlinewidth": 0,
            "ticks": ""
           }
          },
          "colorscale": {
           "diverging": [
            [
             0,
             "#8e0152"
            ],
            [
             0.1,
             "#c51b7d"
            ],
            [
             0.2,
             "#de77ae"
            ],
            [
             0.3,
             "#f1b6da"
            ],
            [
             0.4,
             "#fde0ef"
            ],
            [
             0.5,
             "#f7f7f7"
            ],
            [
             0.6,
             "#e6f5d0"
            ],
            [
             0.7,
             "#b8e186"
            ],
            [
             0.8,
             "#7fbc41"
            ],
            [
             0.9,
             "#4d9221"
            ],
            [
             1,
             "#276419"
            ]
           ],
           "sequential": [
            [
             0,
             "#0d0887"
            ],
            [
             0.1111111111111111,
             "#46039f"
            ],
            [
             0.2222222222222222,
             "#7201a8"
            ],
            [
             0.3333333333333333,
             "#9c179e"
            ],
            [
             0.4444444444444444,
             "#bd3786"
            ],
            [
             0.5555555555555556,
             "#d8576b"
            ],
            [
             0.6666666666666666,
             "#ed7953"
            ],
            [
             0.7777777777777778,
             "#fb9f3a"
            ],
            [
             0.8888888888888888,
             "#fdca26"
            ],
            [
             1,
             "#f0f921"
            ]
           ],
           "sequentialminus": [
            [
             0,
             "#0d0887"
            ],
            [
             0.1111111111111111,
             "#46039f"
            ],
            [
             0.2222222222222222,
             "#7201a8"
            ],
            [
             0.3333333333333333,
             "#9c179e"
            ],
            [
             0.4444444444444444,
             "#bd3786"
            ],
            [
             0.5555555555555556,
             "#d8576b"
            ],
            [
             0.6666666666666666,
             "#ed7953"
            ],
            [
             0.7777777777777778,
             "#fb9f3a"
            ],
            [
             0.8888888888888888,
             "#fdca26"
            ],
            [
             1,
             "#f0f921"
            ]
           ]
          },
          "colorway": [
           "#636efa",
           "#EF553B",
           "#00cc96",
           "#ab63fa",
           "#FFA15A",
           "#19d3f3",
           "#FF6692",
           "#B6E880",
           "#FF97FF",
           "#FECB52"
          ],
          "font": {
           "color": "#2a3f5f"
          },
          "geo": {
           "bgcolor": "white",
           "lakecolor": "white",
           "landcolor": "#E5ECF6",
           "showlakes": true,
           "showland": true,
           "subunitcolor": "white"
          },
          "hoverlabel": {
           "align": "left"
          },
          "hovermode": "closest",
          "mapbox": {
           "style": "light"
          },
          "paper_bgcolor": "white",
          "plot_bgcolor": "#E5ECF6",
          "polar": {
           "angularaxis": {
            "gridcolor": "white",
            "linecolor": "white",
            "ticks": ""
           },
           "bgcolor": "#E5ECF6",
           "radialaxis": {
            "gridcolor": "white",
            "linecolor": "white",
            "ticks": ""
           }
          },
          "scene": {
           "xaxis": {
            "backgroundcolor": "#E5ECF6",
            "gridcolor": "white",
            "gridwidth": 2,
            "linecolor": "white",
            "showbackground": true,
            "ticks": "",
            "zerolinecolor": "white"
           },
           "yaxis": {
            "backgroundcolor": "#E5ECF6",
            "gridcolor": "white",
            "gridwidth": 2,
            "linecolor": "white",
            "showbackground": true,
            "ticks": "",
            "zerolinecolor": "white"
           },
           "zaxis": {
            "backgroundcolor": "#E5ECF6",
            "gridcolor": "white",
            "gridwidth": 2,
            "linecolor": "white",
            "showbackground": true,
            "ticks": "",
            "zerolinecolor": "white"
           }
          },
          "shapedefaults": {
           "line": {
            "color": "#2a3f5f"
           }
          },
          "ternary": {
           "aaxis": {
            "gridcolor": "white",
            "linecolor": "white",
            "ticks": ""
           },
           "baxis": {
            "gridcolor": "white",
            "linecolor": "white",
            "ticks": ""
           },
           "bgcolor": "#E5ECF6",
           "caxis": {
            "gridcolor": "white",
            "linecolor": "white",
            "ticks": ""
           }
          },
          "title": {
           "x": 0.05
          },
          "xaxis": {
           "automargin": true,
           "gridcolor": "white",
           "linecolor": "white",
           "ticks": "",
           "title": {
            "standoff": 15
           },
           "zerolinecolor": "white",
           "zerolinewidth": 2
          },
          "yaxis": {
           "automargin": true,
           "gridcolor": "white",
           "linecolor": "white",
           "ticks": "",
           "title": {
            "standoff": 15
           },
           "zerolinecolor": "white",
           "zerolinewidth": 2
          }
         }
        }
       }
      }
     },
     "metadata": {},
     "output_type": "display_data"
    }
   ],
   "source": [
    "\n",
    "test_dist()"
   ]
  },
  {
   "cell_type": "code",
   "execution_count": 8,
   "metadata": {},
   "outputs": [
    {
     "name": "stdout",
     "output_type": "stream",
     "text": [
      "[ 5 10  7  6]\n"
     ]
    },
    {
     "data": {
      "application/vnd.plotly.v1+json": {
       "config": {
        "plotlyServerURL": "https://plot.ly"
       },
       "data": [
        {
         "hovertemplate": "c=point<br>x=%{x}<br>y=%{y}<br>z=%{z}<extra></extra>",
         "legendgroup": "point",
         "marker": {
          "color": "#636efa",
          "symbol": "circle"
         },
         "mode": "markers",
         "name": "point",
         "scene": "scene",
         "showlegend": true,
         "type": "scatter3d",
         "x": [
          0.8947126610944074,
          0.7763422235999541,
          0.9566621632669855,
          0.6648766676368489,
          0.47091249497094084,
          0.13933049347163534,
          0.07390399140194706,
          0.11273448057966816,
          0.13292241538356833,
          0
         ],
         "y": [
          0,
          0.9633288476927433,
          0.9644986350746404,
          0.982732322655869,
          0.9977252505200844,
          0.9994822175039615,
          0.998664050533453,
          1,
          1,
          1
         ],
         "z": [
          1,
          0.001023371411676197,
          0.00003980835174716912,
          0.013895652670104773,
          0.005001320736729175,
          0.014852055995962595,
          0.016890919017041126,
          0.0008885346912081506,
          0,
          0.3302117104340903
         ]
        },
        {
         "hovertemplate": "c=sel<br>x=%{x}<br>y=%{y}<br>z=%{z}<extra></extra>",
         "legendgroup": "sel",
         "marker": {
          "color": "#EF553B",
          "symbol": "circle"
         },
         "mode": "markers",
         "name": "sel",
         "scene": "scene",
         "showlegend": true,
         "type": "scatter3d",
         "x": [
          0.3683326049179238,
          1,
          0.35670180381913025,
          0.03014303047110432
         ],
         "y": [
          0.00035351219982856266,
          0.9185580977688879,
          0.4748559560751949,
          1
         ],
         "z": [
          0.06649380358956308,
          0.03694069726303152,
          0.5379965703007101,
          0.0039700081217224365
         ]
        },
        {
         "hovertemplate": "c=ref<br>x=%{x}<br>y=%{y}<br>z=%{z}<extra></extra>",
         "legendgroup": "ref",
         "marker": {
          "color": "#00cc96",
          "symbol": "circle"
         },
         "mode": "markers",
         "name": "ref",
         "scene": "scene",
         "showlegend": true,
         "type": "scatter3d",
         "x": [
          0,
          0,
          0,
          0,
          0.3333333333333333,
          0.3333333333333333,
          0.3333333333333333,
          0.6666666666666666,
          0.6666666666666666,
          1
         ],
         "y": [
          0,
          0.3333333333333333,
          0.6666666666666666,
          1,
          0,
          0.3333333333333333,
          0.6666666666666666,
          0,
          0.3333333333333333,
          0
         ],
         "z": [
          1,
          0.6666666666666666,
          0.3333333333333333,
          0,
          0.6666666666666666,
          0.3333333333333333,
          0,
          0.3333333333333333,
          0,
          0
         ]
        }
       ],
       "layout": {
        "legend": {
         "title": {
          "text": "c"
         },
         "tracegroupgap": 0
        },
        "margin": {
         "t": 60
        },
        "scene": {
         "domain": {
          "x": [
           0,
           1
          ],
          "y": [
           0,
           1
          ]
         },
         "xaxis": {
          "title": {
           "text": "x"
          }
         },
         "yaxis": {
          "title": {
           "text": "y"
          }
         },
         "zaxis": {
          "title": {
           "text": "z"
          }
         }
        },
        "template": {
         "data": {
          "bar": [
           {
            "error_x": {
             "color": "#2a3f5f"
            },
            "error_y": {
             "color": "#2a3f5f"
            },
            "marker": {
             "line": {
              "color": "#E5ECF6",
              "width": 0.5
             },
             "pattern": {
              "fillmode": "overlay",
              "size": 10,
              "solidity": 0.2
             }
            },
            "type": "bar"
           }
          ],
          "barpolar": [
           {
            "marker": {
             "line": {
              "color": "#E5ECF6",
              "width": 0.5
             },
             "pattern": {
              "fillmode": "overlay",
              "size": 10,
              "solidity": 0.2
             }
            },
            "type": "barpolar"
           }
          ],
          "carpet": [
           {
            "aaxis": {
             "endlinecolor": "#2a3f5f",
             "gridcolor": "white",
             "linecolor": "white",
             "minorgridcolor": "white",
             "startlinecolor": "#2a3f5f"
            },
            "baxis": {
             "endlinecolor": "#2a3f5f",
             "gridcolor": "white",
             "linecolor": "white",
             "minorgridcolor": "white",
             "startlinecolor": "#2a3f5f"
            },
            "type": "carpet"
           }
          ],
          "choropleth": [
           {
            "colorbar": {
             "outlinewidth": 0,
             "ticks": ""
            },
            "type": "choropleth"
           }
          ],
          "contour": [
           {
            "colorbar": {
             "outlinewidth": 0,
             "ticks": ""
            },
            "colorscale": [
             [
              0,
              "#0d0887"
             ],
             [
              0.1111111111111111,
              "#46039f"
             ],
             [
              0.2222222222222222,
              "#7201a8"
             ],
             [
              0.3333333333333333,
              "#9c179e"
             ],
             [
              0.4444444444444444,
              "#bd3786"
             ],
             [
              0.5555555555555556,
              "#d8576b"
             ],
             [
              0.6666666666666666,
              "#ed7953"
             ],
             [
              0.7777777777777778,
              "#fb9f3a"
             ],
             [
              0.8888888888888888,
              "#fdca26"
             ],
             [
              1,
              "#f0f921"
             ]
            ],
            "type": "contour"
           }
          ],
          "contourcarpet": [
           {
            "colorbar": {
             "outlinewidth": 0,
             "ticks": ""
            },
            "type": "contourcarpet"
           }
          ],
          "heatmap": [
           {
            "colorbar": {
             "outlinewidth": 0,
             "ticks": ""
            },
            "colorscale": [
             [
              0,
              "#0d0887"
             ],
             [
              0.1111111111111111,
              "#46039f"
             ],
             [
              0.2222222222222222,
              "#7201a8"
             ],
             [
              0.3333333333333333,
              "#9c179e"
             ],
             [
              0.4444444444444444,
              "#bd3786"
             ],
             [
              0.5555555555555556,
              "#d8576b"
             ],
             [
              0.6666666666666666,
              "#ed7953"
             ],
             [
              0.7777777777777778,
              "#fb9f3a"
             ],
             [
              0.8888888888888888,
              "#fdca26"
             ],
             [
              1,
              "#f0f921"
             ]
            ],
            "type": "heatmap"
           }
          ],
          "heatmapgl": [
           {
            "colorbar": {
             "outlinewidth": 0,
             "ticks": ""
            },
            "colorscale": [
             [
              0,
              "#0d0887"
             ],
             [
              0.1111111111111111,
              "#46039f"
             ],
             [
              0.2222222222222222,
              "#7201a8"
             ],
             [
              0.3333333333333333,
              "#9c179e"
             ],
             [
              0.4444444444444444,
              "#bd3786"
             ],
             [
              0.5555555555555556,
              "#d8576b"
             ],
             [
              0.6666666666666666,
              "#ed7953"
             ],
             [
              0.7777777777777778,
              "#fb9f3a"
             ],
             [
              0.8888888888888888,
              "#fdca26"
             ],
             [
              1,
              "#f0f921"
             ]
            ],
            "type": "heatmapgl"
           }
          ],
          "histogram": [
           {
            "marker": {
             "pattern": {
              "fillmode": "overlay",
              "size": 10,
              "solidity": 0.2
             }
            },
            "type": "histogram"
           }
          ],
          "histogram2d": [
           {
            "colorbar": {
             "outlinewidth": 0,
             "ticks": ""
            },
            "colorscale": [
             [
              0,
              "#0d0887"
             ],
             [
              0.1111111111111111,
              "#46039f"
             ],
             [
              0.2222222222222222,
              "#7201a8"
             ],
             [
              0.3333333333333333,
              "#9c179e"
             ],
             [
              0.4444444444444444,
              "#bd3786"
             ],
             [
              0.5555555555555556,
              "#d8576b"
             ],
             [
              0.6666666666666666,
              "#ed7953"
             ],
             [
              0.7777777777777778,
              "#fb9f3a"
             ],
             [
              0.8888888888888888,
              "#fdca26"
             ],
             [
              1,
              "#f0f921"
             ]
            ],
            "type": "histogram2d"
           }
          ],
          "histogram2dcontour": [
           {
            "colorbar": {
             "outlinewidth": 0,
             "ticks": ""
            },
            "colorscale": [
             [
              0,
              "#0d0887"
             ],
             [
              0.1111111111111111,
              "#46039f"
             ],
             [
              0.2222222222222222,
              "#7201a8"
             ],
             [
              0.3333333333333333,
              "#9c179e"
             ],
             [
              0.4444444444444444,
              "#bd3786"
             ],
             [
              0.5555555555555556,
              "#d8576b"
             ],
             [
              0.6666666666666666,
              "#ed7953"
             ],
             [
              0.7777777777777778,
              "#fb9f3a"
             ],
             [
              0.8888888888888888,
              "#fdca26"
             ],
             [
              1,
              "#f0f921"
             ]
            ],
            "type": "histogram2dcontour"
           }
          ],
          "mesh3d": [
           {
            "colorbar": {
             "outlinewidth": 0,
             "ticks": ""
            },
            "type": "mesh3d"
           }
          ],
          "parcoords": [
           {
            "line": {
             "colorbar": {
              "outlinewidth": 0,
              "ticks": ""
             }
            },
            "type": "parcoords"
           }
          ],
          "pie": [
           {
            "automargin": true,
            "type": "pie"
           }
          ],
          "scatter": [
           {
            "fillpattern": {
             "fillmode": "overlay",
             "size": 10,
             "solidity": 0.2
            },
            "type": "scatter"
           }
          ],
          "scatter3d": [
           {
            "line": {
             "colorbar": {
              "outlinewidth": 0,
              "ticks": ""
             }
            },
            "marker": {
             "colorbar": {
              "outlinewidth": 0,
              "ticks": ""
             }
            },
            "type": "scatter3d"
           }
          ],
          "scattercarpet": [
           {
            "marker": {
             "colorbar": {
              "outlinewidth": 0,
              "ticks": ""
             }
            },
            "type": "scattercarpet"
           }
          ],
          "scattergeo": [
           {
            "marker": {
             "colorbar": {
              "outlinewidth": 0,
              "ticks": ""
             }
            },
            "type": "scattergeo"
           }
          ],
          "scattergl": [
           {
            "marker": {
             "colorbar": {
              "outlinewidth": 0,
              "ticks": ""
             }
            },
            "type": "scattergl"
           }
          ],
          "scattermapbox": [
           {
            "marker": {
             "colorbar": {
              "outlinewidth": 0,
              "ticks": ""
             }
            },
            "type": "scattermapbox"
           }
          ],
          "scatterpolar": [
           {
            "marker": {
             "colorbar": {
              "outlinewidth": 0,
              "ticks": ""
             }
            },
            "type": "scatterpolar"
           }
          ],
          "scatterpolargl": [
           {
            "marker": {
             "colorbar": {
              "outlinewidth": 0,
              "ticks": ""
             }
            },
            "type": "scatterpolargl"
           }
          ],
          "scatterternary": [
           {
            "marker": {
             "colorbar": {
              "outlinewidth": 0,
              "ticks": ""
             }
            },
            "type": "scatterternary"
           }
          ],
          "surface": [
           {
            "colorbar": {
             "outlinewidth": 0,
             "ticks": ""
            },
            "colorscale": [
             [
              0,
              "#0d0887"
             ],
             [
              0.1111111111111111,
              "#46039f"
             ],
             [
              0.2222222222222222,
              "#7201a8"
             ],
             [
              0.3333333333333333,
              "#9c179e"
             ],
             [
              0.4444444444444444,
              "#bd3786"
             ],
             [
              0.5555555555555556,
              "#d8576b"
             ],
             [
              0.6666666666666666,
              "#ed7953"
             ],
             [
              0.7777777777777778,
              "#fb9f3a"
             ],
             [
              0.8888888888888888,
              "#fdca26"
             ],
             [
              1,
              "#f0f921"
             ]
            ],
            "type": "surface"
           }
          ],
          "table": [
           {
            "cells": {
             "fill": {
              "color": "#EBF0F8"
             },
             "line": {
              "color": "white"
             }
            },
            "header": {
             "fill": {
              "color": "#C8D4E3"
             },
             "line": {
              "color": "white"
             }
            },
            "type": "table"
           }
          ]
         },
         "layout": {
          "annotationdefaults": {
           "arrowcolor": "#2a3f5f",
           "arrowhead": 0,
           "arrowwidth": 1
          },
          "autotypenumbers": "strict",
          "coloraxis": {
           "colorbar": {
            "outlinewidth": 0,
            "ticks": ""
           }
          },
          "colorscale": {
           "diverging": [
            [
             0,
             "#8e0152"
            ],
            [
             0.1,
             "#c51b7d"
            ],
            [
             0.2,
             "#de77ae"
            ],
            [
             0.3,
             "#f1b6da"
            ],
            [
             0.4,
             "#fde0ef"
            ],
            [
             0.5,
             "#f7f7f7"
            ],
            [
             0.6,
             "#e6f5d0"
            ],
            [
             0.7,
             "#b8e186"
            ],
            [
             0.8,
             "#7fbc41"
            ],
            [
             0.9,
             "#4d9221"
            ],
            [
             1,
             "#276419"
            ]
           ],
           "sequential": [
            [
             0,
             "#0d0887"
            ],
            [
             0.1111111111111111,
             "#46039f"
            ],
            [
             0.2222222222222222,
             "#7201a8"
            ],
            [
             0.3333333333333333,
             "#9c179e"
            ],
            [
             0.4444444444444444,
             "#bd3786"
            ],
            [
             0.5555555555555556,
             "#d8576b"
            ],
            [
             0.6666666666666666,
             "#ed7953"
            ],
            [
             0.7777777777777778,
             "#fb9f3a"
            ],
            [
             0.8888888888888888,
             "#fdca26"
            ],
            [
             1,
             "#f0f921"
            ]
           ],
           "sequentialminus": [
            [
             0,
             "#0d0887"
            ],
            [
             0.1111111111111111,
             "#46039f"
            ],
            [
             0.2222222222222222,
             "#7201a8"
            ],
            [
             0.3333333333333333,
             "#9c179e"
            ],
            [
             0.4444444444444444,
             "#bd3786"
            ],
            [
             0.5555555555555556,
             "#d8576b"
            ],
            [
             0.6666666666666666,
             "#ed7953"
            ],
            [
             0.7777777777777778,
             "#fb9f3a"
            ],
            [
             0.8888888888888888,
             "#fdca26"
            ],
            [
             1,
             "#f0f921"
            ]
           ]
          },
          "colorway": [
           "#636efa",
           "#EF553B",
           "#00cc96",
           "#ab63fa",
           "#FFA15A",
           "#19d3f3",
           "#FF6692",
           "#B6E880",
           "#FF97FF",
           "#FECB52"
          ],
          "font": {
           "color": "#2a3f5f"
          },
          "geo": {
           "bgcolor": "white",
           "lakecolor": "white",
           "landcolor": "#E5ECF6",
           "showlakes": true,
           "showland": true,
           "subunitcolor": "white"
          },
          "hoverlabel": {
           "align": "left"
          },
          "hovermode": "closest",
          "mapbox": {
           "style": "light"
          },
          "paper_bgcolor": "white",
          "plot_bgcolor": "#E5ECF6",
          "polar": {
           "angularaxis": {
            "gridcolor": "white",
            "linecolor": "white",
            "ticks": ""
           },
           "bgcolor": "#E5ECF6",
           "radialaxis": {
            "gridcolor": "white",
            "linecolor": "white",
            "ticks": ""
           }
          },
          "scene": {
           "xaxis": {
            "backgroundcolor": "#E5ECF6",
            "gridcolor": "white",
            "gridwidth": 2,
            "linecolor": "white",
            "showbackground": true,
            "ticks": "",
            "zerolinecolor": "white"
           },
           "yaxis": {
            "backgroundcolor": "#E5ECF6",
            "gridcolor": "white",
            "gridwidth": 2,
            "linecolor": "white",
            "showbackground": true,
            "ticks": "",
            "zerolinecolor": "white"
           },
           "zaxis": {
            "backgroundcolor": "#E5ECF6",
            "gridcolor": "white",
            "gridwidth": 2,
            "linecolor": "white",
            "showbackground": true,
            "ticks": "",
            "zerolinecolor": "white"
           }
          },
          "shapedefaults": {
           "line": {
            "color": "#2a3f5f"
           }
          },
          "ternary": {
           "aaxis": {
            "gridcolor": "white",
            "linecolor": "white",
            "ticks": ""
           },
           "baxis": {
            "gridcolor": "white",
            "linecolor": "white",
            "ticks": ""
           },
           "bgcolor": "#E5ECF6",
           "caxis": {
            "gridcolor": "white",
            "linecolor": "white",
            "ticks": ""
           }
          },
          "title": {
           "x": 0.05
          },
          "xaxis": {
           "automargin": true,
           "gridcolor": "white",
           "linecolor": "white",
           "ticks": "",
           "title": {
            "standoff": 15
           },
           "zerolinecolor": "white",
           "zerolinewidth": 2
          },
          "yaxis": {
           "automargin": true,
           "gridcolor": "white",
           "linecolor": "white",
           "ticks": "",
           "title": {
            "standoff": 15
           },
           "zerolinecolor": "white",
           "zerolinewidth": 2
          }
         }
        }
       }
      }
     },
     "metadata": {},
     "output_type": "display_data"
    }
   ],
   "source": [
    "test_dist(\"optimized-8\")"
   ]
  },
  {
   "cell_type": "code",
   "execution_count": 9,
   "metadata": {},
   "outputs": [
    {
     "name": "stdout",
     "output_type": "stream",
     "text": [
      "[49 22  0 47]\n"
     ]
    },
    {
     "data": {
      "application/vnd.plotly.v1+json": {
       "config": {
        "plotlyServerURL": "https://plot.ly"
       },
       "data": [
        {
         "hovertemplate": "c=sel<br>x=%{x}<br>y=%{y}<br>z=%{z}<extra></extra>",
         "legendgroup": "sel",
         "marker": {
          "color": "#636efa",
          "symbol": "circle"
         },
         "mode": "markers",
         "name": "sel",
         "scene": "scene",
         "showlegend": true,
         "type": "scatter3d",
         "x": [
          0.9306344099643725,
          0.022213504735277025,
          0.0486270857801684,
          0.06132630675834988
         ],
         "y": [
          0.5565985647113657,
          0.44447299859719464,
          0.5575054851363597,
          0.5191854710210165
         ],
         "z": [
          0.03582186834886807,
          0.7249308639048807,
          0.07825723522005293,
          0.07380554077644123
         ]
        },
        {
         "hovertemplate": "c=point<br>x=%{x}<br>y=%{y}<br>z=%{z}<extra></extra>",
         "legendgroup": "point",
         "marker": {
          "color": "#EF553B",
          "symbol": "circle"
         },
         "mode": "markers",
         "name": "point",
         "scene": "scene",
         "showlegend": true,
         "type": "scatter3d",
         "x": [
          0.9201821120408002,
          0.12616602044621258,
          0.018200115898202113,
          0.017762718998649302,
          0.04793012663910002,
          0.019108473980427396,
          0.025526813043718677,
          0.9477384032575952,
          0.03114766001183855,
          0.02874343854914277,
          0.07648224444726386,
          0.04424852784359777,
          0.0748897753090138,
          0.0074483046108244685,
          0.031457072105641165,
          0.9454203099279803,
          0.04753161172722877,
          0.021144676197518038,
          0.8942767008070126,
          0,
          0.029876564504487314,
          0.04628985040279119,
          0.02824947830743034,
          0.17250617347399264,
          0.11791412080747185,
          0.029993231575817344,
          1,
          0.031141247315019587,
          0.030023119323491013,
          0.018635043656180336,
          0.952952216010236,
          0.06882429552142846,
          0.06642015849187065,
          0.056423548324042616,
          0.597573460748145,
          0.05415222145406245,
          0.02353898520983144,
          0.06537853536653754,
          0.07700105177832103,
          0.9048742379757595,
          0.9487956897854115,
          0.029664006190806547,
          0.04199726439799655,
          0.008591393148726865,
          0.03920165048631365,
          0.0789043129644704
         ],
         "y": [
          0.5280719427396735,
          0.437699102759493,
          0.46950127533521385,
          0.5788428115562572,
          0.5186816999164024,
          0.5028651473650125,
          0.3487154333469922,
          0.975655668461846,
          0.40465575761581696,
          0.40527435734946277,
          0.24449335772817143,
          0.248783553963827,
          0.2639473742349601,
          0.4593448260687895,
          0.2917362034530943,
          0.2602253614934669,
          1,
          0.41219050223062537,
          0.33161340213539714,
          0.9525746926370198,
          0.3076353784387413,
          0.4856920518301817,
          0.3026547656650182,
          0,
          0.05167598328673058,
          0.8072972434928588,
          0.05958681799845897,
          0.3339703237071725,
          0.5197212978241678,
          0.6156339644964928,
          0.4768507289827038,
          0.2827777042352832,
          0.5772085729158183,
          0.3736569339546059,
          0.45185146791922887,
          0.699428312953434,
          0.3508692451969579,
          0.28616862525479775,
          0.23627514950145717,
          0.44223752748889045,
          0.737126657211891,
          0.33691821390343246,
          0.6011502367215514,
          0.5553098052331877,
          0.2661329708902353,
          0.4791985304825013
         ],
         "z": [
          0.069620498486521,
          0.28551306869991366,
          0.8530000047871089,
          0.5385516917626044,
          0.09967675244882973,
          0.5786786762215551,
          0.42407844955703905,
          0,
          0.407376237757662,
          0.34844494613648,
          0.8306139668668007,
          0.952876921765365,
          0.6604504642358318,
          0.8899333311898856,
          0.4461503263795426,
          0.38492184490108783,
          0.06635614286629836,
          1,
          0.3586911360589275,
          0.5069096938152668,
          0.6453181299279991,
          0.1626688931363258,
          0.7459562990822254,
          0.7263502020980461,
          0.5071692501833558,
          0.08791862829206964,
          0.5029665306731629,
          0.6354180491141308,
          0.2553920699378736,
          0.1709742102823501,
          0.035465653121400445,
          0.560186244114558,
          0.03803299209847494,
          0.3656567190882257,
          0.16857225856332025,
          0.0534177643547092,
          0.442002732183017,
          0.42351438552833653,
          0.7172467958029483,
          0.10780960918529187,
          0.02648759438823628,
          0.6912074807823322,
          0.07888268288688563,
          0.8722890435106219,
          0.8363430498404021,
          0.07498727766382837
         ]
        }
       ],
       "layout": {
        "legend": {
         "title": {
          "text": "c"
         },
         "tracegroupgap": 0
        },
        "margin": {
         "t": 60
        },
        "scene": {
         "domain": {
          "x": [
           0,
           1
          ],
          "y": [
           0,
           1
          ]
         },
         "xaxis": {
          "title": {
           "text": "x"
          }
         },
         "yaxis": {
          "title": {
           "text": "y"
          }
         },
         "zaxis": {
          "title": {
           "text": "z"
          }
         }
        },
        "template": {
         "data": {
          "bar": [
           {
            "error_x": {
             "color": "#2a3f5f"
            },
            "error_y": {
             "color": "#2a3f5f"
            },
            "marker": {
             "line": {
              "color": "#E5ECF6",
              "width": 0.5
             },
             "pattern": {
              "fillmode": "overlay",
              "size": 10,
              "solidity": 0.2
             }
            },
            "type": "bar"
           }
          ],
          "barpolar": [
           {
            "marker": {
             "line": {
              "color": "#E5ECF6",
              "width": 0.5
             },
             "pattern": {
              "fillmode": "overlay",
              "size": 10,
              "solidity": 0.2
             }
            },
            "type": "barpolar"
           }
          ],
          "carpet": [
           {
            "aaxis": {
             "endlinecolor": "#2a3f5f",
             "gridcolor": "white",
             "linecolor": "white",
             "minorgridcolor": "white",
             "startlinecolor": "#2a3f5f"
            },
            "baxis": {
             "endlinecolor": "#2a3f5f",
             "gridcolor": "white",
             "linecolor": "white",
             "minorgridcolor": "white",
             "startlinecolor": "#2a3f5f"
            },
            "type": "carpet"
           }
          ],
          "choropleth": [
           {
            "colorbar": {
             "outlinewidth": 0,
             "ticks": ""
            },
            "type": "choropleth"
           }
          ],
          "contour": [
           {
            "colorbar": {
             "outlinewidth": 0,
             "ticks": ""
            },
            "colorscale": [
             [
              0,
              "#0d0887"
             ],
             [
              0.1111111111111111,
              "#46039f"
             ],
             [
              0.2222222222222222,
              "#7201a8"
             ],
             [
              0.3333333333333333,
              "#9c179e"
             ],
             [
              0.4444444444444444,
              "#bd3786"
             ],
             [
              0.5555555555555556,
              "#d8576b"
             ],
             [
              0.6666666666666666,
              "#ed7953"
             ],
             [
              0.7777777777777778,
              "#fb9f3a"
             ],
             [
              0.8888888888888888,
              "#fdca26"
             ],
             [
              1,
              "#f0f921"
             ]
            ],
            "type": "contour"
           }
          ],
          "contourcarpet": [
           {
            "colorbar": {
             "outlinewidth": 0,
             "ticks": ""
            },
            "type": "contourcarpet"
           }
          ],
          "heatmap": [
           {
            "colorbar": {
             "outlinewidth": 0,
             "ticks": ""
            },
            "colorscale": [
             [
              0,
              "#0d0887"
             ],
             [
              0.1111111111111111,
              "#46039f"
             ],
             [
              0.2222222222222222,
              "#7201a8"
             ],
             [
              0.3333333333333333,
              "#9c179e"
             ],
             [
              0.4444444444444444,
              "#bd3786"
             ],
             [
              0.5555555555555556,
              "#d8576b"
             ],
             [
              0.6666666666666666,
              "#ed7953"
             ],
             [
              0.7777777777777778,
              "#fb9f3a"
             ],
             [
              0.8888888888888888,
              "#fdca26"
             ],
             [
              1,
              "#f0f921"
             ]
            ],
            "type": "heatmap"
           }
          ],
          "heatmapgl": [
           {
            "colorbar": {
             "outlinewidth": 0,
             "ticks": ""
            },
            "colorscale": [
             [
              0,
              "#0d0887"
             ],
             [
              0.1111111111111111,
              "#46039f"
             ],
             [
              0.2222222222222222,
              "#7201a8"
             ],
             [
              0.3333333333333333,
              "#9c179e"
             ],
             [
              0.4444444444444444,
              "#bd3786"
             ],
             [
              0.5555555555555556,
              "#d8576b"
             ],
             [
              0.6666666666666666,
              "#ed7953"
             ],
             [
              0.7777777777777778,
              "#fb9f3a"
             ],
             [
              0.8888888888888888,
              "#fdca26"
             ],
             [
              1,
              "#f0f921"
             ]
            ],
            "type": "heatmapgl"
           }
          ],
          "histogram": [
           {
            "marker": {
             "pattern": {
              "fillmode": "overlay",
              "size": 10,
              "solidity": 0.2
             }
            },
            "type": "histogram"
           }
          ],
          "histogram2d": [
           {
            "colorbar": {
             "outlinewidth": 0,
             "ticks": ""
            },
            "colorscale": [
             [
              0,
              "#0d0887"
             ],
             [
              0.1111111111111111,
              "#46039f"
             ],
             [
              0.2222222222222222,
              "#7201a8"
             ],
             [
              0.3333333333333333,
              "#9c179e"
             ],
             [
              0.4444444444444444,
              "#bd3786"
             ],
             [
              0.5555555555555556,
              "#d8576b"
             ],
             [
              0.6666666666666666,
              "#ed7953"
             ],
             [
              0.7777777777777778,
              "#fb9f3a"
             ],
             [
              0.8888888888888888,
              "#fdca26"
             ],
             [
              1,
              "#f0f921"
             ]
            ],
            "type": "histogram2d"
           }
          ],
          "histogram2dcontour": [
           {
            "colorbar": {
             "outlinewidth": 0,
             "ticks": ""
            },
            "colorscale": [
             [
              0,
              "#0d0887"
             ],
             [
              0.1111111111111111,
              "#46039f"
             ],
             [
              0.2222222222222222,
              "#7201a8"
             ],
             [
              0.3333333333333333,
              "#9c179e"
             ],
             [
              0.4444444444444444,
              "#bd3786"
             ],
             [
              0.5555555555555556,
              "#d8576b"
             ],
             [
              0.6666666666666666,
              "#ed7953"
             ],
             [
              0.7777777777777778,
              "#fb9f3a"
             ],
             [
              0.8888888888888888,
              "#fdca26"
             ],
             [
              1,
              "#f0f921"
             ]
            ],
            "type": "histogram2dcontour"
           }
          ],
          "mesh3d": [
           {
            "colorbar": {
             "outlinewidth": 0,
             "ticks": ""
            },
            "type": "mesh3d"
           }
          ],
          "parcoords": [
           {
            "line": {
             "colorbar": {
              "outlinewidth": 0,
              "ticks": ""
             }
            },
            "type": "parcoords"
           }
          ],
          "pie": [
           {
            "automargin": true,
            "type": "pie"
           }
          ],
          "scatter": [
           {
            "fillpattern": {
             "fillmode": "overlay",
             "size": 10,
             "solidity": 0.2
            },
            "type": "scatter"
           }
          ],
          "scatter3d": [
           {
            "line": {
             "colorbar": {
              "outlinewidth": 0,
              "ticks": ""
             }
            },
            "marker": {
             "colorbar": {
              "outlinewidth": 0,
              "ticks": ""
             }
            },
            "type": "scatter3d"
           }
          ],
          "scattercarpet": [
           {
            "marker": {
             "colorbar": {
              "outlinewidth": 0,
              "ticks": ""
             }
            },
            "type": "scattercarpet"
           }
          ],
          "scattergeo": [
           {
            "marker": {
             "colorbar": {
              "outlinewidth": 0,
              "ticks": ""
             }
            },
            "type": "scattergeo"
           }
          ],
          "scattergl": [
           {
            "marker": {
             "colorbar": {
              "outlinewidth": 0,
              "ticks": ""
             }
            },
            "type": "scattergl"
           }
          ],
          "scattermapbox": [
           {
            "marker": {
             "colorbar": {
              "outlinewidth": 0,
              "ticks": ""
             }
            },
            "type": "scattermapbox"
           }
          ],
          "scatterpolar": [
           {
            "marker": {
             "colorbar": {
              "outlinewidth": 0,
              "ticks": ""
             }
            },
            "type": "scatterpolar"
           }
          ],
          "scatterpolargl": [
           {
            "marker": {
             "colorbar": {
              "outlinewidth": 0,
              "ticks": ""
             }
            },
            "type": "scatterpolargl"
           }
          ],
          "scatterternary": [
           {
            "marker": {
             "colorbar": {
              "outlinewidth": 0,
              "ticks": ""
             }
            },
            "type": "scatterternary"
           }
          ],
          "surface": [
           {
            "colorbar": {
             "outlinewidth": 0,
             "ticks": ""
            },
            "colorscale": [
             [
              0,
              "#0d0887"
             ],
             [
              0.1111111111111111,
              "#46039f"
             ],
             [
              0.2222222222222222,
              "#7201a8"
             ],
             [
              0.3333333333333333,
              "#9c179e"
             ],
             [
              0.4444444444444444,
              "#bd3786"
             ],
             [
              0.5555555555555556,
              "#d8576b"
             ],
             [
              0.6666666666666666,
              "#ed7953"
             ],
             [
              0.7777777777777778,
              "#fb9f3a"
             ],
             [
              0.8888888888888888,
              "#fdca26"
             ],
             [
              1,
              "#f0f921"
             ]
            ],
            "type": "surface"
           }
          ],
          "table": [
           {
            "cells": {
             "fill": {
              "color": "#EBF0F8"
             },
             "line": {
              "color": "white"
             }
            },
            "header": {
             "fill": {
              "color": "#C8D4E3"
             },
             "line": {
              "color": "white"
             }
            },
            "type": "table"
           }
          ]
         },
         "layout": {
          "annotationdefaults": {
           "arrowcolor": "#2a3f5f",
           "arrowhead": 0,
           "arrowwidth": 1
          },
          "autotypenumbers": "strict",
          "coloraxis": {
           "colorbar": {
            "outlinewidth": 0,
            "ticks": ""
           }
          },
          "colorscale": {
           "diverging": [
            [
             0,
             "#8e0152"
            ],
            [
             0.1,
             "#c51b7d"
            ],
            [
             0.2,
             "#de77ae"
            ],
            [
             0.3,
             "#f1b6da"
            ],
            [
             0.4,
             "#fde0ef"
            ],
            [
             0.5,
             "#f7f7f7"
            ],
            [
             0.6,
             "#e6f5d0"
            ],
            [
             0.7,
             "#b8e186"
            ],
            [
             0.8,
             "#7fbc41"
            ],
            [
             0.9,
             "#4d9221"
            ],
            [
             1,
             "#276419"
            ]
           ],
           "sequential": [
            [
             0,
             "#0d0887"
            ],
            [
             0.1111111111111111,
             "#46039f"
            ],
            [
             0.2222222222222222,
             "#7201a8"
            ],
            [
             0.3333333333333333,
             "#9c179e"
            ],
            [
             0.4444444444444444,
             "#bd3786"
            ],
            [
             0.5555555555555556,
             "#d8576b"
            ],
            [
             0.6666666666666666,
             "#ed7953"
            ],
            [
             0.7777777777777778,
             "#fb9f3a"
            ],
            [
             0.8888888888888888,
             "#fdca26"
            ],
            [
             1,
             "#f0f921"
            ]
           ],
           "sequentialminus": [
            [
             0,
             "#0d0887"
            ],
            [
             0.1111111111111111,
             "#46039f"
            ],
            [
             0.2222222222222222,
             "#7201a8"
            ],
            [
             0.3333333333333333,
             "#9c179e"
            ],
            [
             0.4444444444444444,
             "#bd3786"
            ],
            [
             0.5555555555555556,
             "#d8576b"
            ],
            [
             0.6666666666666666,
             "#ed7953"
            ],
            [
             0.7777777777777778,
             "#fb9f3a"
            ],
            [
             0.8888888888888888,
             "#fdca26"
            ],
            [
             1,
             "#f0f921"
            ]
           ]
          },
          "colorway": [
           "#636efa",
           "#EF553B",
           "#00cc96",
           "#ab63fa",
           "#FFA15A",
           "#19d3f3",
           "#FF6692",
           "#B6E880",
           "#FF97FF",
           "#FECB52"
          ],
          "font": {
           "color": "#2a3f5f"
          },
          "geo": {
           "bgcolor": "white",
           "lakecolor": "white",
           "landcolor": "#E5ECF6",
           "showlakes": true,
           "showland": true,
           "subunitcolor": "white"
          },
          "hoverlabel": {
           "align": "left"
          },
          "hovermode": "closest",
          "mapbox": {
           "style": "light"
          },
          "paper_bgcolor": "white",
          "plot_bgcolor": "#E5ECF6",
          "polar": {
           "angularaxis": {
            "gridcolor": "white",
            "linecolor": "white",
            "ticks": ""
           },
           "bgcolor": "#E5ECF6",
           "radialaxis": {
            "gridcolor": "white",
            "linecolor": "white",
            "ticks": ""
           }
          },
          "scene": {
           "xaxis": {
            "backgroundcolor": "#E5ECF6",
            "gridcolor": "white",
            "gridwidth": 2,
            "linecolor": "white",
            "showbackground": true,
            "ticks": "",
            "zerolinecolor": "white"
           },
           "yaxis": {
            "backgroundcolor": "#E5ECF6",
            "gridcolor": "white",
            "gridwidth": 2,
            "linecolor": "white",
            "showbackground": true,
            "ticks": "",
            "zerolinecolor": "white"
           },
           "zaxis": {
            "backgroundcolor": "#E5ECF6",
            "gridcolor": "white",
            "gridwidth": 2,
            "linecolor": "white",
            "showbackground": true,
            "ticks": "",
            "zerolinecolor": "white"
           }
          },
          "shapedefaults": {
           "line": {
            "color": "#2a3f5f"
           }
          },
          "ternary": {
           "aaxis": {
            "gridcolor": "white",
            "linecolor": "white",
            "ticks": ""
           },
           "baxis": {
            "gridcolor": "white",
            "linecolor": "white",
            "ticks": ""
           },
           "bgcolor": "#E5ECF6",
           "caxis": {
            "gridcolor": "white",
            "linecolor": "white",
            "ticks": ""
           }
          },
          "title": {
           "x": 0.05
          },
          "xaxis": {
           "automargin": true,
           "gridcolor": "white",
           "linecolor": "white",
           "ticks": "",
           "title": {
            "standoff": 15
           },
           "zerolinecolor": "white",
           "zerolinewidth": 2
          },
          "yaxis": {
           "automargin": true,
           "gridcolor": "white",
           "linecolor": "white",
           "ticks": "",
           "title": {
            "standoff": 15
           },
           "zerolinecolor": "white",
           "zerolinewidth": 2
          }
         }
        }
       }
      }
     },
     "metadata": {},
     "output_type": "display_data"
    }
   ],
   "source": [
    "test_dist(\"optimized-40\", is_crowding_distance=True)"
   ]
  },
  {
   "cell_type": "code",
   "execution_count": 10,
   "metadata": {},
   "outputs": [],
   "source": [
    "# # a = np.random.random((10,2))\n",
    "# a = np.array([[1,2],[3,4],[1,5],[7,1]])\n",
    "\n",
    "# b = crowding_distance(a)\n",
    "# b"
   ]
  },
  {
   "cell_type": "code",
   "execution_count": 11,
   "metadata": {},
   "outputs": [],
   "source": [
    "# # prueba de la distancia perpendicular\n",
    "\n",
    "# def test_perp_dist():\n",
    "#     w = np.array([[5,2],[2,5], [6,8], [1,0],[1,1], [2,4], [6,8],[3,9], [1,5], [0,9]])\n",
    "#     S = np.array([[1,2],[3,4], [7,4], [8,9]])\n",
    "\n",
    "#     r = vect_proj(S,w)\n",
    "#     a = angle_between(r[0], w)\n",
    "#     print(a)\n",
    "\n",
    "#     print(r.shape, S.shape)\n",
    "\n",
    "\n",
    "#     w_dist = []\n",
    "#     for i in range(r.shape[0]):\n",
    "#         # projection to St\n",
    "#         p_w = S - r[i]\n",
    "#         # print(p_w.shape, r[i].shape, w[i].shape)\n",
    "#         # perpendicular distance\n",
    "#         dist_per = np.linalg.norm(p_w, axis=1)\n",
    "#         w_dist.append(dist_per)\n",
    "#         # print(dist_per)\n",
    "\n",
    "#     w_dist = np.array(w_dist).T\n",
    "#     print(w_dist)\n",
    "\n",
    "#     sort_dist = np.argsort(w_dist, axis=0)\n",
    "#     print(sort_dist)\n",
    "#     sel_ref = np.array([0,3,5,9])\n",
    "\n",
    "#     sel_inds = sort_dist[0,sel_ref]\n",
    "#     print(sel_inds)\n",
    "\n",
    "\n",
    "\n",
    "#     # # pos min dist\n",
    "#     # pi_pos = np.argmin(w_dist, axis=1)\n",
    "#     # print(pi_pos)\n",
    "#     # # val of w assigned to St_i\n",
    "#     # pi = w[pi_pos]\n",
    "#     # print(pi)\n",
    "#     # # distance of St_i assigned to w_j\n",
    "#     # d = w_dist[np.arange(pi_pos.shape[0]) , pi_pos]\n",
    "#     # d\n",
    "\n",
    "#     df = pd.DataFrame({\"x\":S[:,0], \"y\":S[:,1]})\n",
    "#     fig = px.scatter(df, x=\"x\", y=\"y\")\n",
    "\n",
    "#     f2 = go.Scatter(x=[w[0,0]], y=[w[0,1]])\n",
    "#     fig.add_trace(f2)\n",
    "#     f2 = go.Scatter(x=r[0,:,0], y=r[0,:,1])\n",
    "#     fig.add_trace(f2)\n",
    "\n",
    "#     fig.add_shape(type=\"line\", x0=0.5, y0=0, x1=0.5,y1=1, xref='x', yref='y', line=dict(color=\"green\",))\n",
    "#     fig.add_shape(type=\"line\", x0=0, y0=0.5, x1=1,y1=0.5, xref='x', yref='y', line=dict(color=\"green\",))\n",
    "#     fig.update_yaxes(scaleratio=1,)\n",
    "#     fig.update_xaxes(scaleratio=1,)\n",
    "#     fig.show()\n",
    "\n",
    "# test_dist()"
   ]
  },
  {
   "cell_type": "code",
   "execution_count": 12,
   "metadata": {},
   "outputs": [
    {
     "ename": "TypeError",
     "evalue": "Invalid number of arguments, args should be ['id_pareto_front', 'solutions_number', 'normalize', 'non_dominated', 'load_test'] args are('optimized-50', 0)",
     "output_type": "error",
     "traceback": [
      "\u001b[0;31m---------------------------------------------------------------------------\u001b[0m",
      "\u001b[0;31mTypeError\u001b[0m                                 Traceback (most recent call last)",
      "\u001b[1;32m/home/diego/catkin_ws/src/neurocontroller_database/scripts_to_results/test: non_dominated.ipynb Cell 12\u001b[0m line \u001b[0;36m<cell line: 40>\u001b[0;34m()\u001b[0m\n\u001b[1;32m     <a href='vscode-notebook-cell:/home/diego/catkin_ws/src/neurocontroller_database/scripts_to_results/test%3A%20non_dominated.ipynb#X14sZmlsZQ%3D%3D?line=36'>37</a>\u001b[0m     fig\u001b[39m.\u001b[39mupdate_traces(marker_size \u001b[39m=\u001b[39m \u001b[39m5\u001b[39m)\n\u001b[1;32m     <a href='vscode-notebook-cell:/home/diego/catkin_ws/src/neurocontroller_database/scripts_to_results/test%3A%20non_dominated.ipynb#X14sZmlsZQ%3D%3D?line=37'>38</a>\u001b[0m     fig\u001b[39m.\u001b[39mshow()\n\u001b[0;32m---> <a href='vscode-notebook-cell:/home/diego/catkin_ws/src/neurocontroller_database/scripts_to_results/test%3A%20non_dominated.ipynb#X14sZmlsZQ%3D%3D?line=39'>40</a>\u001b[0m plot_all_obj_space(\u001b[39m60\u001b[39;49m, ini\u001b[39m=\u001b[39;49m\u001b[39m50\u001b[39;49m)\n",
      "\u001b[1;32m/home/diego/catkin_ws/src/neurocontroller_database/scripts_to_results/test: non_dominated.ipynb Cell 12\u001b[0m line \u001b[0;36mplot_all_obj_space\u001b[0;34m(to_front, ini)\u001b[0m\n\u001b[1;32m      <a href='vscode-notebook-cell:/home/diego/catkin_ws/src/neurocontroller_database/scripts_to_results/test%3A%20non_dominated.ipynb#X14sZmlsZQ%3D%3D?line=7'>8</a>\u001b[0m n\u001b[39m+\u001b[39m\u001b[39m=\u001b[39mini\n\u001b[1;32m     <a href='vscode-notebook-cell:/home/diego/catkin_ws/src/neurocontroller_database/scripts_to_results/test%3A%20non_dominated.ipynb#X14sZmlsZQ%3D%3D?line=9'>10</a>\u001b[0m id_pareto \u001b[39m=\u001b[39m \u001b[39mf\u001b[39m\u001b[39m\"\u001b[39m\u001b[39moptimized-\u001b[39m\u001b[39m{\u001b[39;00mn\u001b[39m}\u001b[39;00m\u001b[39m\"\u001b[39m\n\u001b[0;32m---> <a href='vscode-notebook-cell:/home/diego/catkin_ws/src/neurocontroller_database/scripts_to_results/test%3A%20non_dominated.ipynb#X14sZmlsZQ%3D%3D?line=11'>12</a>\u001b[0m points \u001b[39m=\u001b[39m load_object_space_ros(id_pareto)\n\u001b[1;32m     <a href='vscode-notebook-cell:/home/diego/catkin_ws/src/neurocontroller_database/scripts_to_results/test%3A%20non_dominated.ipynb#X14sZmlsZQ%3D%3D?line=13'>14</a>\u001b[0m non_dom \u001b[39m=\u001b[39m fast_non_dominated_sort(points)\n\u001b[1;32m     <a href='vscode-notebook-cell:/home/diego/catkin_ws/src/neurocontroller_database/scripts_to_results/test%3A%20non_dominated.ipynb#X14sZmlsZQ%3D%3D?line=14'>15</a>\u001b[0m points \u001b[39m=\u001b[39m points[non_dom \u001b[39m==\u001b[39m \u001b[39m1\u001b[39m]\n",
      "File \u001b[0;32m~/catkin_ws/src/neurocontroller_database/src/ROS.py:38\u001b[0m, in \u001b[0;36mload_object_space_ros\u001b[0;34m(id_pareto, num_inds, return_object)\u001b[0m\n\u001b[1;32m     36\u001b[0m \u001b[39mtry\u001b[39;00m:\n\u001b[1;32m     37\u001b[0m     load_objetives \u001b[39m=\u001b[39m rospy\u001b[39m.\u001b[39mServiceProxy(\u001b[39m\"\u001b[39m\u001b[39mload_obj_space\u001b[39m\u001b[39m\"\u001b[39m, load_obj_space)\n\u001b[0;32m---> 38\u001b[0m     res \u001b[39m=\u001b[39m load_objetives(id_pareto, \u001b[39m0\u001b[39;49m)\n\u001b[1;32m     40\u001b[0m     \u001b[39m# se pasa a numpy\u001b[39;00m\n\u001b[1;32m     41\u001b[0m     data \u001b[39m=\u001b[39m np\u001b[39m.\u001b[39marray(res\u001b[39m.\u001b[39mobj_space)\n",
      "File \u001b[0;32m/opt/ros/noetic/lib/python3/dist-packages/rospy/impl/tcpros_service.py:442\u001b[0m, in \u001b[0;36mServiceProxy.__call__\u001b[0;34m(self, *args, **kwds)\u001b[0m\n\u001b[1;32m    428\u001b[0m \u001b[39mdef\u001b[39;00m \u001b[39m__call__\u001b[39m(\u001b[39mself\u001b[39m, \u001b[39m*\u001b[39margs, \u001b[39m*\u001b[39m\u001b[39m*\u001b[39mkwds):\n\u001b[1;32m    429\u001b[0m     \u001b[39m\"\"\"\u001b[39;00m\n\u001b[1;32m    430\u001b[0m \u001b[39m    Callable-style version of the service API. This accepts either a request message instance,\u001b[39;00m\n\u001b[1;32m    431\u001b[0m \u001b[39m    or you can call directly with arguments to create a new request instance. e.g.::\u001b[39;00m\n\u001b[0;32m   (...)\u001b[0m\n\u001b[1;32m    440\u001b[0m \u001b[39m    message. This is usually a type error with one of the fields.\u001b[39;00m\n\u001b[1;32m    441\u001b[0m \u001b[39m    \"\"\"\u001b[39;00m\n\u001b[0;32m--> 442\u001b[0m     \u001b[39mreturn\u001b[39;00m \u001b[39mself\u001b[39;49m\u001b[39m.\u001b[39;49mcall(\u001b[39m*\u001b[39;49margs, \u001b[39m*\u001b[39;49m\u001b[39m*\u001b[39;49mkwds)\n",
      "File \u001b[0;32m/opt/ros/noetic/lib/python3/dist-packages/rospy/impl/tcpros_service.py:498\u001b[0m, in \u001b[0;36mServiceProxy.call\u001b[0;34m(self, *args, **kwds)\u001b[0m\n\u001b[1;32m    482\u001b[0m \u001b[39m\"\"\"\u001b[39;00m\n\u001b[1;32m    483\u001b[0m \u001b[39mCall the service. This accepts either a request message instance,\u001b[39;00m\n\u001b[1;32m    484\u001b[0m \u001b[39mor you can call directly with arguments to create a new request instance. e.g.::\u001b[39;00m\n\u001b[0;32m   (...)\u001b[0m\n\u001b[1;32m    494\u001b[0m \u001b[39mmessage. This is usually a type error with one of the fields.\u001b[39;00m\n\u001b[1;32m    495\u001b[0m \u001b[39m\"\"\"\u001b[39;00m\n\u001b[1;32m    497\u001b[0m \u001b[39m# convert args/kwds to request message class\u001b[39;00m\n\u001b[0;32m--> 498\u001b[0m request \u001b[39m=\u001b[39m rospy\u001b[39m.\u001b[39;49mmsg\u001b[39m.\u001b[39;49margs_kwds_to_message(\u001b[39mself\u001b[39;49m\u001b[39m.\u001b[39;49mrequest_class, args, kwds) \n\u001b[1;32m    500\u001b[0m \u001b[39m# initialize transport\u001b[39;00m\n\u001b[1;32m    501\u001b[0m \u001b[39mif\u001b[39;00m \u001b[39mself\u001b[39m\u001b[39m.\u001b[39mtransport \u001b[39mis\u001b[39;00m \u001b[39mNone\u001b[39;00m:\n",
      "File \u001b[0;32m/opt/ros/noetic/lib/python3/dist-packages/rospy/msg.py:124\u001b[0m, in \u001b[0;36margs_kwds_to_message\u001b[0;34m(data_class, args, kwds)\u001b[0m\n\u001b[1;32m    122\u001b[0m     \u001b[39mreturn\u001b[39;00m data_class(\u001b[39m*\u001b[39margs)\n\u001b[1;32m    123\u001b[0m \u001b[39melse\u001b[39;00m:\n\u001b[0;32m--> 124\u001b[0m     \u001b[39mreturn\u001b[39;00m data_class(\u001b[39m*\u001b[39;49margs)\n",
      "File \u001b[0;32m~/catkin_ws/devel/lib/python3/dist-packages/neurocontroller_database/srv/_load_obj_space.py:38\u001b[0m, in \u001b[0;36mload_obj_spaceRequest.__init__\u001b[0;34m(self, *args, **kwds)\u001b[0m\n\u001b[1;32m     24\u001b[0m \u001b[39m\"\"\"\u001b[39;00m\n\u001b[1;32m     25\u001b[0m \u001b[39mConstructor. Any message fields that are implicitly/explicitly\u001b[39;00m\n\u001b[1;32m     26\u001b[0m \u001b[39mset to None will be assigned a default value. The recommend\u001b[39;00m\n\u001b[0;32m   (...)\u001b[0m\n\u001b[1;32m     35\u001b[0m \u001b[39mto set specific fields.\u001b[39;00m\n\u001b[1;32m     36\u001b[0m \u001b[39m\"\"\"\u001b[39;00m\n\u001b[1;32m     37\u001b[0m \u001b[39mif\u001b[39;00m args \u001b[39mor\u001b[39;00m kwds:\n\u001b[0;32m---> 38\u001b[0m   \u001b[39msuper\u001b[39;49m(load_obj_spaceRequest, \u001b[39mself\u001b[39;49m)\u001b[39m.\u001b[39;49m\u001b[39m__init__\u001b[39;49m(\u001b[39m*\u001b[39;49margs, \u001b[39m*\u001b[39;49m\u001b[39m*\u001b[39;49mkwds)\n\u001b[1;32m     39\u001b[0m   \u001b[39m# message fields cannot be None, assign default values for those that are\u001b[39;00m\n\u001b[1;32m     40\u001b[0m   \u001b[39mif\u001b[39;00m \u001b[39mself\u001b[39m\u001b[39m.\u001b[39mid_pareto_front \u001b[39mis\u001b[39;00m \u001b[39mNone\u001b[39;00m:\n",
      "File \u001b[0;32m/opt/ros/noetic/lib/python3/dist-packages/genpy/message.py:354\u001b[0m, in \u001b[0;36mMessage.__init__\u001b[0;34m(self, *args, **kwds)\u001b[0m\n\u001b[1;32m    352\u001b[0m \u001b[39mif\u001b[39;00m args:\n\u001b[1;32m    353\u001b[0m     \u001b[39mif\u001b[39;00m \u001b[39mlen\u001b[39m(args) \u001b[39m!=\u001b[39m \u001b[39mlen\u001b[39m(\u001b[39mself\u001b[39m\u001b[39m.\u001b[39m\u001b[39m__slots__\u001b[39m):\n\u001b[0;32m--> 354\u001b[0m         \u001b[39mraise\u001b[39;00m \u001b[39mTypeError\u001b[39;00m(\u001b[39m'\u001b[39m\u001b[39mInvalid number of arguments, args should be \u001b[39m\u001b[39m%s\u001b[39;00m\u001b[39m'\u001b[39m \u001b[39m%\u001b[39m \u001b[39mstr\u001b[39m(\u001b[39mself\u001b[39m\u001b[39m.\u001b[39m\u001b[39m__slots__\u001b[39m) \u001b[39m+\u001b[39m \u001b[39m'\u001b[39m\u001b[39m args are\u001b[39m\u001b[39m'\u001b[39m \u001b[39m+\u001b[39m \u001b[39mstr\u001b[39m(args))\n\u001b[1;32m    355\u001b[0m     \u001b[39mfor\u001b[39;00m i, k \u001b[39min\u001b[39;00m \u001b[39menumerate\u001b[39m(\u001b[39mself\u001b[39m\u001b[39m.\u001b[39m\u001b[39m__slots__\u001b[39m):\n\u001b[1;32m    356\u001b[0m         \u001b[39msetattr\u001b[39m(\u001b[39mself\u001b[39m, k, args[i])\n",
      "\u001b[0;31mTypeError\u001b[0m: Invalid number of arguments, args should be ['id_pareto_front', 'solutions_number', 'normalize', 'non_dominated', 'load_test'] args are('optimized-50', 0)"
     ]
    }
   ],
   "source": [
    "\n",
    "\n",
    "def plot_all_obj_space(to_front, ini=1):\n",
    "    number_of_colors = 61\n",
    "    x = np.array([])\n",
    "    y = np.array([])\n",
    "    z = np.array([])\n",
    "    id_p = np.array([])\n",
    "    for n in range(to_front-ini+1):\n",
    "        n+=ini\n",
    "            \n",
    "        id_pareto = f\"optimized-{n}\"\n",
    "\n",
    "        points = load_object_space_ros(id_pareto)\n",
    "\n",
    "        non_dom = fast_non_dominated_sort(points)\n",
    "        points = points[non_dom == 1]\n",
    "\n",
    "        # print(np.unique(non_dom))\n",
    "        \n",
    "        # color = [\"#\"+''.join([random.choice('0123456789ABCDEF') for j in range(6)])\n",
    "        #      for i in range(number_of_colors)]\n",
    "\n",
    "        # fig = go.Figure()\n",
    "        # # fig.update_layout(showlegend=True)\n",
    "        # fig.add_trace(go.Scatter3d(x=points[:,0], y=points[:,1], z=points[:,2],\n",
    "        #                 mode='markers',\n",
    "        #                 name=id_pareto,\n",
    "        #                 marker=dict(color=color)),\n",
    "        #                 showlegend=True)\n",
    "\n",
    "        x=np.concatenate((x, points[:,0]))\n",
    "        y=np.concatenate((y, points[:,1]))\n",
    "        z=np.concatenate((z, points[:,2]))\n",
    "        id_p=np.concatenate((id_p, [id_pareto]*points.shape[0]))\n",
    "\n",
    "   \n",
    "    fig = px.scatter_3d(pd.DataFrame({\"id\":id_p, \"x\":x, \"y\":y, \"z\":z}), x=\"x\", y=\"y\", z=\"z\",color=\"id\")\n",
    "    fig.update_traces(marker_size = 5)\n",
    "    fig.show()\n",
    "\n",
    "plot_all_obj_space(60, ini=50)"
   ]
  },
  {
   "cell_type": "code",
   "execution_count": null,
   "metadata": {},
   "outputs": [
    {
     "data": {
      "text/plain": [
       "(array([[False, False, False],\n",
       "        [False, False, False],\n",
       "        [False, False, False],\n",
       "        [False, False, False],\n",
       "        [False, False, False],\n",
       "        [False, False, False],\n",
       "        [False, False, False],\n",
       "        [False, False, False],\n",
       "        [False, False, False],\n",
       "        [ True,  True,  True],\n",
       "        [False, False, False],\n",
       "        [False, False, False],\n",
       "        [False, False, False],\n",
       "        [False, False, False],\n",
       "        [False, False, False],\n",
       "        [False, False, False],\n",
       "        [False, False, False],\n",
       "        [False, False, False]]),\n",
       " array([[19.71339932,  0.74100113,  0.74744383],\n",
       "        [19.95542313,  0.71517922,  0.50180127],\n",
       "        [19.71459024,  0.8094635 ,  0.44623266],\n",
       "        [37.36212045,  0.72026066,  0.42202899],\n",
       "        [19.66965292,  0.85391661,  0.74971929],\n",
       "        [22.21555944,  0.61805222,  0.68226628],\n",
       "        [21.18104519,  0.63522075,  0.48859293],\n",
       "        [19.64231369,  0.85810013,  0.67252839],\n",
       "        [19.86933286,  0.8051749 ,  0.63972602],\n",
       "        [19.87221626,  0.7965457 ,  0.18712683],\n",
       "        [21.15332307,  0.78025408,  0.44896423],\n",
       "        [19.70055898,  0.82677378,  0.71117308],\n",
       "        [19.51495263,  0.88626399,  0.1181334 ],\n",
       "        [19.69466686,  0.82867923,  0.64757017],\n",
       "        [19.8720218 ,  0.7718264 ,  0.64271943],\n",
       "        [37.89648942,  0.637849  ,  0.48487931],\n",
       "        [37.24948539,  0.7851505 ,  0.29397645],\n",
       "        [19.45559539,  0.75481556,  0.76717943]]),\n",
       " array([[19.65624312,  0.73341325,  0.79403548],\n",
       "        [19.75340125,  0.76240595,  0.56338858],\n",
       "        [19.45559539,  0.75481556,  0.76717943],\n",
       "        [37.24948539,  0.7851505 ,  0.29397645],\n",
       "        [37.89648942,  0.637849  ,  0.48487931],\n",
       "        [19.69466686,  0.82867923,  0.64757017],\n",
       "        [19.51495263,  0.88626399,  0.1181334 ],\n",
       "        [19.70055898,  0.82677378,  0.71117308],\n",
       "        [21.15332307,  0.78025408,  0.44896423],\n",
       "        [19.87221626,  0.7965457 ,  0.18712683],\n",
       "        [19.64231369,  0.85810013,  0.67252839],\n",
       "        [21.18104519,  0.63522075,  0.48859293],\n",
       "        [22.21555944,  0.61805222,  0.68226628],\n",
       "        [19.66965292,  0.85391661,  0.74971929],\n",
       "        [37.36212045,  0.72026066,  0.42202899],\n",
       "        [19.71459024,  0.8094635 ,  0.44623266],\n",
       "        [19.95542313,  0.71517922,  0.50180127],\n",
       "        [19.71339932,  0.74100113,  0.74744383]]))"
      ]
     },
     "execution_count": 14,
     "metadata": {},
     "output_type": "execute_result"
    }
   ],
   "source": [
    "p1 = load_object_space_ros(\"optimized-20\")\n",
    "n1 = fast_non_dominated_sort(p1)\n",
    "p1 = p1[n1 == 1]\n",
    "\n",
    "p2 = load_object_space_ros(\"optimized-21\")\n",
    "n2 = fast_non_dominated_sort(p2)\n",
    "p2 = p2[n2 == 1]\n",
    "\n",
    "p1==p2, p1, p2\n"
   ]
  },
  {
   "cell_type": "code",
   "execution_count": 2,
   "metadata": {},
   "outputs": [],
   "source": [
    "\n",
    "\n",
    "def num_to_fileName(num_gen, is_obj_space=True):\n",
    "    \n",
    "    str_num = \"\"\n",
    "\n",
    "    # num del archivo de generación\n",
    "    if num_gen > 0 and num_gen < 10:\n",
    "        str_num = f\"00{num_gen}\"\n",
    "    if num_gen >= 10 and num_gen < 100:\n",
    "        str_num = f\"0{num_gen}\"\n",
    "    if num_gen >= 100:\n",
    "        str_num = f\"{num_gen}\"\n",
    "\n",
    "    if str_num == \"\":\n",
    "        raise Exception(f\"No existe el numero de generacion {num_gen}\")\n",
    "    else:\n",
    "        if is_obj_space:\n",
    "            str_num = f\"obj_space_gen_{str_num}.out\"\n",
    "        else:\n",
    "            str_num = f\"var_space_gen_{str_num}.out\"\n",
    "            \n",
    "        return str_num\n",
    "    \n",
    "\n",
    "def id_to_fileName(id_pareto, is_obj_space=True, return_id=False):\n",
    "    # se separan los id (id compuesto)\n",
    "    ids = id_pareto.split(\"_\")\n",
    "\n",
    "    path_list = []\n",
    "    for id in ids:\n",
    "        path_ = \"\"\n",
    "\n",
    "        # si el id es de un usuario\n",
    "        if id.find(\"/\") >= 0:\n",
    "            # ruta de inicio de la base de datos\n",
    "            path_ = f\"{root_database}/database\"\n",
    "            # se divide el ID\n",
    "            s_id = id.split(\"/\")\n",
    "            # primer posición es el nombre del usuario\n",
    "            path_ += f\"/{s_id[0]}\"\n",
    "            # segunda posición es el ID de la población\n",
    "            id_aux = s_id[1]\n",
    "        else:\n",
    "            path_ = f\"{root_database}/database_populations\"\n",
    "            id_aux = id\n",
    "            \n",
    "        # se extrae el num gen y el nombre del folder\n",
    "        s_id = id_aux.split(\"-\")\n",
    "        # pimer posición es el nombre del folder\n",
    "        path_ += f\"/{s_id[0]}\"\n",
    "        # segunda posición es el número de generación\n",
    "        fileName = num_to_fileName(int(s_id[1]), is_obj_space)\n",
    "        # ruta completa del archivo\n",
    "        path_ += f\"/{fileName}\"\n",
    "        \n",
    "        if return_id:\n",
    "            path_list.append([id, path_])\n",
    "        else:\n",
    "            path_list.append(path_)\n",
    "\n",
    "    return path_list\n",
    "\n"
   ]
  },
  {
   "cell_type": "code",
   "execution_count": 5,
   "metadata": {},
   "outputs": [
    {
     "data": {
      "text/plain": [
       "['/home/diego/catkin_ws/src/neurocontroller_database/database_populations/optimized/var_space_gen_001.out',\n",
       " '/home/diego/catkin_ws/src/neurocontroller_database/database_populations/inline12/var_space_gen_023.out',\n",
       " '/home/diego/catkin_ws/src/neurocontroller_database/database/afg/optimized2/var_space_gen_001.out']"
      ]
     },
     "execution_count": 5,
     "metadata": {},
     "output_type": "execute_result"
    }
   ],
   "source": [
    "id_to_fileName(\"optimized-1_inline12-23_afg/optimized2-1\", False, False)\n"
   ]
  }
 ],
 "metadata": {
  "kernelspec": {
   "display_name": "Python 3",
   "language": "python",
   "name": "python3"
  },
  "language_info": {
   "codemirror_mode": {
    "name": "ipython",
    "version": 3
   },
   "file_extension": ".py",
   "mimetype": "text/x-python",
   "name": "python",
   "nbconvert_exporter": "python",
   "pygments_lexer": "ipython3",
   "version": "3.8.10"
  },
  "orig_nbformat": 4,
  "vscode": {
   "interpreter": {
    "hash": "916dbcbb3f70747c44a77c7bcd40155683ae19c65e1c03b4aa3499c5328201f1"
   }
  }
 },
 "nbformat": 4,
 "nbformat_minor": 2
}
